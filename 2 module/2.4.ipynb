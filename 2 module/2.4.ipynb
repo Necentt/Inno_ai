{
 "cells": [
  {
   "cell_type": "markdown",
   "source": [],
   "metadata": {
    "collapsed": false,
    "pycharm": {
     "name": "#%% md\n"
    }
   }
  },
  {
   "cell_type": "code",
   "execution_count": 4,
   "outputs": [
    {
     "name": "stdout",
     "output_type": "stream",
     "text": [
      "      name  surname     fullname1     fullname2     fullname3\n",
      "0     Маша  Петрова  Маша Петрова  Маша Петрова  Маша Петрова\n",
      "1     Саша  Сидоров  Саша Сидоров  Саша Сидоров  Саша Сидоров\n",
      "2  Рудольф      Кац   Рудольф Кац   Рудольф Кац   Рудольф Кац\n"
     ]
    },
    {
     "name": "stderr",
     "output_type": "stream",
     "text": [
      "C:\\Users\\Борис\\AppData\\Local\\Temp\\ipykernel_13532\\275119243.py:6: FutureWarning: Series.__getitem__ treating keys as positions is deprecated. In a future version, integer keys will always be treated as labels (consistent with DataFrame behavior). To access a value by position, use `ser.iloc[pos]`\n",
      "  df['fullname1'] = df[['name', 'surname']].apply(lambda x: x[0] + ' ' + x[1], axis=1)\n"
     ]
    }
   ],
   "source": [
    "import pandas as pd\n",
    "# Из имени и фамилии делаем полное имя\n",
    "df = pd.DataFrame({'name': ['Маша', 'Саша', 'Рудольф'],\n",
    "'surname':['Петрова', 'Сидоров', 'Кац']})\n",
    "# １ способ\n",
    "df['fullname1'] = df[['name', 'surname']].apply(lambda x: x[0] + ' ' + x[1], axis=1)\n",
    "# 2 способ\n",
    "lst = []\n",
    "for n, s in zip(df.name, df.surname):\n",
    "    lst.append(n + ' ' + s)\n",
    "df['fullname2'] = lst\n",
    "# 3 способ\n",
    "df['fullname3'] = df['name'] + ' ' + df['surname']\n",
    "print(df)"
   ],
   "metadata": {
    "collapsed": false,
    "pycharm": {
     "name": "#%%\n"
    }
   }
  },
  {
   "cell_type": "code",
   "execution_count": 5,
   "outputs": [
    {
     "name": "stdout",
     "output_type": "stream",
     "text": [
      "   a  b\n",
      "0  1  3\n",
      "1  2  3\n",
      "2  1  3\n",
      "3  2  4\n",
      "   a  b  a + b\n",
      "0  1  3      4\n",
      "1  2  3      5\n",
      "2  1  3      4\n",
      "3  2  4      6\n"
     ]
    }
   ],
   "source": [
    "#Несколько колонок как функция одной\n",
    "import pandas as pd\n",
    "a = pd.DataFrame({'a': [1,2,1,2], 'b':[3,3,3,4]})\n",
    "def two_three_strings(x):\n",
    "    return x*2, x*3\n",
    "print(a)\n",
    "a['a + b'] = a['a'] + a['b']\n",
    "print(a)"
   ],
   "metadata": {
    "collapsed": false,
    "pycharm": {
     "name": "#%%\n"
    }
   }
  },
  {
   "cell_type": "markdown",
   "source": [
    "Задание\n",
    "Откройте набор данных 2.4 houses.csv\n",
    "Добавьте в датафрейм новые колонки:\n",
    "1. LivLotRatio как отношение колонки GrLivArea к колонке LotArea\n",
    "2. Spaciousness: сумма FirstFlrSF и SecondFlrSF, деленая на TotRmsAbvGrd\n",
    "Посмотрите на датафрейм, подумайте, какие ещё значения могут быть полезны, запишите одну из\n",
    "своих идей."
   ],
   "metadata": {
    "collapsed": false,
    "pycharm": {
     "name": "#%% md\n"
    }
   }
  },
  {
   "cell_type": "code",
   "execution_count": 2,
   "outputs": [
    {
     "name": "stdout",
     "output_type": "stream",
     "text": [
      "      LivLotRatio  GrLivArea  LotArea\n",
      "0        0.052125     1656.0  31770.0\n",
      "1        0.077095      896.0  11622.0\n",
      "2        0.093152     1329.0  14267.0\n",
      "3        0.189068     2110.0  11160.0\n",
      "4        0.117787     1629.0  13830.0\n",
      "...           ...        ...      ...\n",
      "2925     0.126370     1003.0   7937.0\n",
      "2926     0.101519      902.0   8885.0\n",
      "2927     0.092903      970.0  10441.0\n",
      "2928     0.138761     1389.0  10010.0\n",
      "2929     0.207749     2000.0   9627.0\n",
      "\n",
      "[2930 rows x 3 columns]\n"
     ]
    }
   ],
   "source": [
    "import pandas as pd\n",
    "import numpy as np\n",
    "houses_df = pd.read_csv('2.4 houses.csv')\n",
    "houses_df['LivLotRatio'] = houses_df['GrLivArea'] / houses_df['LotArea']\n",
    "houses_df['Spaciousness'] = (houses_df['FirstFlrSF'] + houses_df['SecondFlrSF']) / houses_df['TotRmsAbvGrd']\n",
    "print(houses_df.loc[:, ['LivLotRatio', 'GrLivArea', 'LotArea']])\n",
    "\n",
    "\n",
    "\n",
    "\n",
    "\n",
    "# autos_df = pd.read_csv('2.4 autos.csv')\n",
    "# autos_df['displacement'] = (np.pi *((autos_df.bore * 0.5) ** 2) * autos_df.stroke * autos_df.num_of_cylinders)\n",
    "# autos_df['make + fuel'] = autos_df['make'] + ' ' + autos_df['fuel_type']\n",
    "# print(autos_df.loc[:, ['displacement', 'make + fuel']])\n",
    "\n",
    "\n",
    "\n",
    "\n"
   ],
   "metadata": {
    "collapsed": false,
    "pycharm": {
     "name": "#%%\n"
    }
   }
  },
  {
   "cell_type": "code",
   "execution_count": null,
   "outputs": [],
   "source": [],
   "metadata": {
    "collapsed": false,
    "pycharm": {
     "name": "#%%\n"
    }
   }
  },
  {
   "cell_type": "markdown",
   "source": [
    "создайте колонку Spaciousness: сумма FirstFlrSF и SecondFlrSF, деленая на TotRmsAbvGrd"
   ],
   "metadata": {
    "collapsed": false,
    "pycharm": {
     "name": "#%% md\n"
    }
   }
  },
  {
   "cell_type": "code",
   "execution_count": 17,
   "outputs": [
    {
     "name": "stdout",
     "output_type": "stream",
     "text": [
      "      FirstFlrSF  SecondFlrSF  TotRmsAbvGrd  Spaciousness\n",
      "0         1656.0          0.0             7    236.571429\n",
      "1          896.0          0.0             5    179.200000\n",
      "2         1329.0          0.0             6    221.500000\n",
      "3         2110.0          0.0             8    263.750000\n",
      "4          928.0        701.0             6    271.500000\n",
      "...          ...          ...           ...           ...\n",
      "2925      1003.0          0.0             6    167.166667\n",
      "2926       902.0          0.0             5    180.400000\n",
      "2927       970.0          0.0             6    161.666667\n",
      "2928      1389.0          0.0             6    231.500000\n",
      "2929       996.0       1004.0             9    222.222222\n",
      "\n",
      "[2930 rows x 4 columns]\n"
     ]
    }
   ],
   "source": [
    "houses_df = pd.read_csv('2.4 houses.csv')\n",
    "houses_df['LivLotRatio'] = houses_df['GrLivArea'] / houses_df['LotArea']\n",
    "houses_df['Spaciousness'] = (houses_df['FirstFlrSF'] + houses_df['SecondFlrSF']) / houses_df['TotRmsAbvGrd']\n",
    "print(houses_df.loc[:, ['FirstFlrSF','SecondFlrSF', 'TotRmsAbvGrd',  'Spaciousness']])"
   ],
   "metadata": {
    "collapsed": false,
    "pycharm": {
     "name": "#%%\n"
    }
   }
  },
  {
   "cell_type": "code",
   "execution_count": 3,
   "outputs": [
    {
     "data": {
      "text/plain": "MSSubClass        object\nMSZoning          object\nLotFrontage      float64\nLotArea          float64\nStreet            object\n                  ...   \nSaleType          object\nSaleCondition     object\nSalePrice          int64\nLivLotRatio      float64\nSpaciousness     float64\nLength: 81, dtype: object"
     },
     "execution_count": 3,
     "metadata": {},
     "output_type": "execute_result"
    }
   ],
   "source": [
    "houses_df.dtypes"
   ],
   "metadata": {
    "collapsed": false,
    "pycharm": {
     "name": "#%%\n"
    }
   }
  },
  {
   "cell_type": "code",
   "execution_count": 2,
   "outputs": [],
   "source": [
    "import pandas as pd\n",
    "weather_df = pd.read_csv('2.4 weather.csv')\n",
    "sales_df = pd.read_csv('2.4 sales.csv')\n"
   ],
   "metadata": {
    "collapsed": false,
    "pycharm": {
     "name": "#%%\n"
    }
   }
  },
  {
   "cell_type": "code",
   "execution_count": 8,
   "outputs": [],
   "source": [
    "sales_df = sales_df.sort_values(by='date')\n",
    "weather_df = weather_df.sort_values(by='date')"
   ],
   "metadata": {
    "collapsed": false,
    "pycharm": {
     "name": "#%%\n"
    }
   }
  },
  {
   "cell_type": "code",
   "execution_count": 12,
   "outputs": [
    {
     "data": {
      "text/plain": "    Unnamed: 0        date  temperature  Unnamed: 0        date  sales\n0            0  2023-07-01    27.774945           0  2023-07-01   2010\n1            1  2023-07-02    29.418479           1  2023-07-02   1845\n2            2  2023-07-03    28.495733           2  2023-07-03    141\n3            3  2023-07-04    30.369211           3  2023-07-04   2007\n4            4  2023-07-05    23.527366           4  2023-07-05   2592\n5            5  2023-07-06    33.863415           5  2023-07-06    330\n6            6  2023-07-07    29.496996           6  2023-07-07     18\n7            7  2023-07-08    29.572397           7  2023-07-08   1245\n8            8  2023-07-09    26.581430           8  2023-07-09   1689\n9            9  2023-07-10    27.585032           9  2023-07-10   1794\n10          10  2023-07-11    28.778842          10  2023-07-11   2511\n11          11  2023-07-12    23.835334          11  2023-07-12   2160\n12          12  2023-07-13    30.944713          12  2023-07-13    855\n13          13  2023-07-14    29.267127          13  2023-07-14     27\n14          14  2023-07-15    25.575075          14  2023-07-15   1839\n15          15  2023-07-16    28.632283          15  2023-07-16   2043\n16          16  2023-07-17    32.013838          16  2023-07-17    900\n17          17  2023-07-18    32.795059          17  2023-07-18    300\n18          18  2023-07-19    24.799404          18  2023-07-19    657\n19          19  2023-07-20    26.752678          19  2023-07-20   2241\n20          20  2023-07-21    32.459505          20  2023-07-21    849\n21          21  2023-07-22    24.321133          21  2023-07-22    663\n22          22  2023-07-23    24.795955          22  2023-07-23   2664\n23          23  2023-07-24    33.579580          23  2023-07-24   1473\n24          24  2023-07-25    27.432170          24  2023-07-25    450\n25          25  2023-07-26    33.957569          25  2023-07-26    984\n26          26  2023-07-27    23.926716          26  2023-07-27   2766\n27          27  2023-07-28    26.572704          27  2023-07-28   1866\n28          28  2023-07-29    26.504578          28  2023-07-29    906\n29          29  2023-07-30    29.358892          29  2023-07-30    594",
      "text/html": "<div>\n<style scoped>\n    .dataframe tbody tr th:only-of-type {\n        vertical-align: middle;\n    }\n\n    .dataframe tbody tr th {\n        vertical-align: top;\n    }\n\n    .dataframe thead th {\n        text-align: right;\n    }\n</style>\n<table border=\"1\" class=\"dataframe\">\n  <thead>\n    <tr style=\"text-align: right;\">\n      <th></th>\n      <th>Unnamed: 0</th>\n      <th>date</th>\n      <th>temperature</th>\n      <th>Unnamed: 0</th>\n      <th>date</th>\n      <th>sales</th>\n    </tr>\n  </thead>\n  <tbody>\n    <tr>\n      <th>0</th>\n      <td>0</td>\n      <td>2023-07-01</td>\n      <td>27.774945</td>\n      <td>0</td>\n      <td>2023-07-01</td>\n      <td>2010</td>\n    </tr>\n    <tr>\n      <th>1</th>\n      <td>1</td>\n      <td>2023-07-02</td>\n      <td>29.418479</td>\n      <td>1</td>\n      <td>2023-07-02</td>\n      <td>1845</td>\n    </tr>\n    <tr>\n      <th>2</th>\n      <td>2</td>\n      <td>2023-07-03</td>\n      <td>28.495733</td>\n      <td>2</td>\n      <td>2023-07-03</td>\n      <td>141</td>\n    </tr>\n    <tr>\n      <th>3</th>\n      <td>3</td>\n      <td>2023-07-04</td>\n      <td>30.369211</td>\n      <td>3</td>\n      <td>2023-07-04</td>\n      <td>2007</td>\n    </tr>\n    <tr>\n      <th>4</th>\n      <td>4</td>\n      <td>2023-07-05</td>\n      <td>23.527366</td>\n      <td>4</td>\n      <td>2023-07-05</td>\n      <td>2592</td>\n    </tr>\n    <tr>\n      <th>5</th>\n      <td>5</td>\n      <td>2023-07-06</td>\n      <td>33.863415</td>\n      <td>5</td>\n      <td>2023-07-06</td>\n      <td>330</td>\n    </tr>\n    <tr>\n      <th>6</th>\n      <td>6</td>\n      <td>2023-07-07</td>\n      <td>29.496996</td>\n      <td>6</td>\n      <td>2023-07-07</td>\n      <td>18</td>\n    </tr>\n    <tr>\n      <th>7</th>\n      <td>7</td>\n      <td>2023-07-08</td>\n      <td>29.572397</td>\n      <td>7</td>\n      <td>2023-07-08</td>\n      <td>1245</td>\n    </tr>\n    <tr>\n      <th>8</th>\n      <td>8</td>\n      <td>2023-07-09</td>\n      <td>26.581430</td>\n      <td>8</td>\n      <td>2023-07-09</td>\n      <td>1689</td>\n    </tr>\n    <tr>\n      <th>9</th>\n      <td>9</td>\n      <td>2023-07-10</td>\n      <td>27.585032</td>\n      <td>9</td>\n      <td>2023-07-10</td>\n      <td>1794</td>\n    </tr>\n    <tr>\n      <th>10</th>\n      <td>10</td>\n      <td>2023-07-11</td>\n      <td>28.778842</td>\n      <td>10</td>\n      <td>2023-07-11</td>\n      <td>2511</td>\n    </tr>\n    <tr>\n      <th>11</th>\n      <td>11</td>\n      <td>2023-07-12</td>\n      <td>23.835334</td>\n      <td>11</td>\n      <td>2023-07-12</td>\n      <td>2160</td>\n    </tr>\n    <tr>\n      <th>12</th>\n      <td>12</td>\n      <td>2023-07-13</td>\n      <td>30.944713</td>\n      <td>12</td>\n      <td>2023-07-13</td>\n      <td>855</td>\n    </tr>\n    <tr>\n      <th>13</th>\n      <td>13</td>\n      <td>2023-07-14</td>\n      <td>29.267127</td>\n      <td>13</td>\n      <td>2023-07-14</td>\n      <td>27</td>\n    </tr>\n    <tr>\n      <th>14</th>\n      <td>14</td>\n      <td>2023-07-15</td>\n      <td>25.575075</td>\n      <td>14</td>\n      <td>2023-07-15</td>\n      <td>1839</td>\n    </tr>\n    <tr>\n      <th>15</th>\n      <td>15</td>\n      <td>2023-07-16</td>\n      <td>28.632283</td>\n      <td>15</td>\n      <td>2023-07-16</td>\n      <td>2043</td>\n    </tr>\n    <tr>\n      <th>16</th>\n      <td>16</td>\n      <td>2023-07-17</td>\n      <td>32.013838</td>\n      <td>16</td>\n      <td>2023-07-17</td>\n      <td>900</td>\n    </tr>\n    <tr>\n      <th>17</th>\n      <td>17</td>\n      <td>2023-07-18</td>\n      <td>32.795059</td>\n      <td>17</td>\n      <td>2023-07-18</td>\n      <td>300</td>\n    </tr>\n    <tr>\n      <th>18</th>\n      <td>18</td>\n      <td>2023-07-19</td>\n      <td>24.799404</td>\n      <td>18</td>\n      <td>2023-07-19</td>\n      <td>657</td>\n    </tr>\n    <tr>\n      <th>19</th>\n      <td>19</td>\n      <td>2023-07-20</td>\n      <td>26.752678</td>\n      <td>19</td>\n      <td>2023-07-20</td>\n      <td>2241</td>\n    </tr>\n    <tr>\n      <th>20</th>\n      <td>20</td>\n      <td>2023-07-21</td>\n      <td>32.459505</td>\n      <td>20</td>\n      <td>2023-07-21</td>\n      <td>849</td>\n    </tr>\n    <tr>\n      <th>21</th>\n      <td>21</td>\n      <td>2023-07-22</td>\n      <td>24.321133</td>\n      <td>21</td>\n      <td>2023-07-22</td>\n      <td>663</td>\n    </tr>\n    <tr>\n      <th>22</th>\n      <td>22</td>\n      <td>2023-07-23</td>\n      <td>24.795955</td>\n      <td>22</td>\n      <td>2023-07-23</td>\n      <td>2664</td>\n    </tr>\n    <tr>\n      <th>23</th>\n      <td>23</td>\n      <td>2023-07-24</td>\n      <td>33.579580</td>\n      <td>23</td>\n      <td>2023-07-24</td>\n      <td>1473</td>\n    </tr>\n    <tr>\n      <th>24</th>\n      <td>24</td>\n      <td>2023-07-25</td>\n      <td>27.432170</td>\n      <td>24</td>\n      <td>2023-07-25</td>\n      <td>450</td>\n    </tr>\n    <tr>\n      <th>25</th>\n      <td>25</td>\n      <td>2023-07-26</td>\n      <td>33.957569</td>\n      <td>25</td>\n      <td>2023-07-26</td>\n      <td>984</td>\n    </tr>\n    <tr>\n      <th>26</th>\n      <td>26</td>\n      <td>2023-07-27</td>\n      <td>23.926716</td>\n      <td>26</td>\n      <td>2023-07-27</td>\n      <td>2766</td>\n    </tr>\n    <tr>\n      <th>27</th>\n      <td>27</td>\n      <td>2023-07-28</td>\n      <td>26.572704</td>\n      <td>27</td>\n      <td>2023-07-28</td>\n      <td>1866</td>\n    </tr>\n    <tr>\n      <th>28</th>\n      <td>28</td>\n      <td>2023-07-29</td>\n      <td>26.504578</td>\n      <td>28</td>\n      <td>2023-07-29</td>\n      <td>906</td>\n    </tr>\n    <tr>\n      <th>29</th>\n      <td>29</td>\n      <td>2023-07-30</td>\n      <td>29.358892</td>\n      <td>29</td>\n      <td>2023-07-30</td>\n      <td>594</td>\n    </tr>\n  </tbody>\n</table>\n</div>"
     },
     "execution_count": 12,
     "metadata": {},
     "output_type": "execute_result"
    }
   ],
   "source": [
    "temp = weather_df['temperature']\n",
    "date = weather_df['date']\n",
    "sales = sales_df['sales']\n",
    "pd.concat([weather_df, sales_df], axis=1)"
   ],
   "metadata": {
    "collapsed": false,
    "pycharm": {
     "name": "#%%\n"
    }
   }
  },
  {
   "cell_type": "markdown",
   "source": [],
   "metadata": {
    "collapsed": false,
    "pycharm": {
     "name": "#%% md\n"
    }
   }
  },
  {
   "cell_type": "code",
   "execution_count": 8,
   "outputs": [],
   "source": [
    "final_df = pd.merge(\n",
    "    sales_df, weather_df,\n",
    "    left_on='date',\n",
    "    right_on='date'\n",
    ")"
   ],
   "metadata": {
    "collapsed": false,
    "pycharm": {
     "name": "#%%\n"
    }
   }
  },
  {
   "cell_type": "code",
   "execution_count": 9,
   "outputs": [
    {
     "data": {
      "text/plain": "    Unnamed: 0_x        date  sales  Unnamed: 0_y  temperature\n0              0  2023-07-01   2010             0    27.774945\n1              1  2023-07-02   1845             1    29.418479\n2              2  2023-07-03    141             2    28.495733\n3              3  2023-07-04   2007             3    30.369211\n4              4  2023-07-05   2592             4    23.527366\n5              5  2023-07-06    330             5    33.863415\n6              6  2023-07-07     18             6    29.496996\n7              7  2023-07-08   1245             7    29.572397\n8              8  2023-07-09   1689             8    26.581430\n9              9  2023-07-10   1794             9    27.585032\n10            10  2023-07-11   2511            10    28.778842\n11            11  2023-07-12   2160            11    23.835334\n12            12  2023-07-13    855            12    30.944713\n13            13  2023-07-14     27            13    29.267127\n14            14  2023-07-15   1839            14    25.575075\n15            15  2023-07-16   2043            15    28.632283\n16            16  2023-07-17    900            16    32.013838\n17            17  2023-07-18    300            17    32.795059\n18            18  2023-07-19    657            18    24.799404\n19            19  2023-07-20   2241            19    26.752678\n20            20  2023-07-21    849            20    32.459505\n21            21  2023-07-22    663            21    24.321133\n22            22  2023-07-23   2664            22    24.795955\n23            23  2023-07-24   1473            23    33.579580\n24            24  2023-07-25    450            24    27.432170\n25            25  2023-07-26    984            25    33.957569\n26            26  2023-07-27   2766            26    23.926716\n27            27  2023-07-28   1866            27    26.572704\n28            28  2023-07-29    906            28    26.504578\n29            29  2023-07-30    594            29    29.358892",
      "text/html": "<div>\n<style scoped>\n    .dataframe tbody tr th:only-of-type {\n        vertical-align: middle;\n    }\n\n    .dataframe tbody tr th {\n        vertical-align: top;\n    }\n\n    .dataframe thead th {\n        text-align: right;\n    }\n</style>\n<table border=\"1\" class=\"dataframe\">\n  <thead>\n    <tr style=\"text-align: right;\">\n      <th></th>\n      <th>Unnamed: 0_x</th>\n      <th>date</th>\n      <th>sales</th>\n      <th>Unnamed: 0_y</th>\n      <th>temperature</th>\n    </tr>\n  </thead>\n  <tbody>\n    <tr>\n      <th>0</th>\n      <td>0</td>\n      <td>2023-07-01</td>\n      <td>2010</td>\n      <td>0</td>\n      <td>27.774945</td>\n    </tr>\n    <tr>\n      <th>1</th>\n      <td>1</td>\n      <td>2023-07-02</td>\n      <td>1845</td>\n      <td>1</td>\n      <td>29.418479</td>\n    </tr>\n    <tr>\n      <th>2</th>\n      <td>2</td>\n      <td>2023-07-03</td>\n      <td>141</td>\n      <td>2</td>\n      <td>28.495733</td>\n    </tr>\n    <tr>\n      <th>3</th>\n      <td>3</td>\n      <td>2023-07-04</td>\n      <td>2007</td>\n      <td>3</td>\n      <td>30.369211</td>\n    </tr>\n    <tr>\n      <th>4</th>\n      <td>4</td>\n      <td>2023-07-05</td>\n      <td>2592</td>\n      <td>4</td>\n      <td>23.527366</td>\n    </tr>\n    <tr>\n      <th>5</th>\n      <td>5</td>\n      <td>2023-07-06</td>\n      <td>330</td>\n      <td>5</td>\n      <td>33.863415</td>\n    </tr>\n    <tr>\n      <th>6</th>\n      <td>6</td>\n      <td>2023-07-07</td>\n      <td>18</td>\n      <td>6</td>\n      <td>29.496996</td>\n    </tr>\n    <tr>\n      <th>7</th>\n      <td>7</td>\n      <td>2023-07-08</td>\n      <td>1245</td>\n      <td>7</td>\n      <td>29.572397</td>\n    </tr>\n    <tr>\n      <th>8</th>\n      <td>8</td>\n      <td>2023-07-09</td>\n      <td>1689</td>\n      <td>8</td>\n      <td>26.581430</td>\n    </tr>\n    <tr>\n      <th>9</th>\n      <td>9</td>\n      <td>2023-07-10</td>\n      <td>1794</td>\n      <td>9</td>\n      <td>27.585032</td>\n    </tr>\n    <tr>\n      <th>10</th>\n      <td>10</td>\n      <td>2023-07-11</td>\n      <td>2511</td>\n      <td>10</td>\n      <td>28.778842</td>\n    </tr>\n    <tr>\n      <th>11</th>\n      <td>11</td>\n      <td>2023-07-12</td>\n      <td>2160</td>\n      <td>11</td>\n      <td>23.835334</td>\n    </tr>\n    <tr>\n      <th>12</th>\n      <td>12</td>\n      <td>2023-07-13</td>\n      <td>855</td>\n      <td>12</td>\n      <td>30.944713</td>\n    </tr>\n    <tr>\n      <th>13</th>\n      <td>13</td>\n      <td>2023-07-14</td>\n      <td>27</td>\n      <td>13</td>\n      <td>29.267127</td>\n    </tr>\n    <tr>\n      <th>14</th>\n      <td>14</td>\n      <td>2023-07-15</td>\n      <td>1839</td>\n      <td>14</td>\n      <td>25.575075</td>\n    </tr>\n    <tr>\n      <th>15</th>\n      <td>15</td>\n      <td>2023-07-16</td>\n      <td>2043</td>\n      <td>15</td>\n      <td>28.632283</td>\n    </tr>\n    <tr>\n      <th>16</th>\n      <td>16</td>\n      <td>2023-07-17</td>\n      <td>900</td>\n      <td>16</td>\n      <td>32.013838</td>\n    </tr>\n    <tr>\n      <th>17</th>\n      <td>17</td>\n      <td>2023-07-18</td>\n      <td>300</td>\n      <td>17</td>\n      <td>32.795059</td>\n    </tr>\n    <tr>\n      <th>18</th>\n      <td>18</td>\n      <td>2023-07-19</td>\n      <td>657</td>\n      <td>18</td>\n      <td>24.799404</td>\n    </tr>\n    <tr>\n      <th>19</th>\n      <td>19</td>\n      <td>2023-07-20</td>\n      <td>2241</td>\n      <td>19</td>\n      <td>26.752678</td>\n    </tr>\n    <tr>\n      <th>20</th>\n      <td>20</td>\n      <td>2023-07-21</td>\n      <td>849</td>\n      <td>20</td>\n      <td>32.459505</td>\n    </tr>\n    <tr>\n      <th>21</th>\n      <td>21</td>\n      <td>2023-07-22</td>\n      <td>663</td>\n      <td>21</td>\n      <td>24.321133</td>\n    </tr>\n    <tr>\n      <th>22</th>\n      <td>22</td>\n      <td>2023-07-23</td>\n      <td>2664</td>\n      <td>22</td>\n      <td>24.795955</td>\n    </tr>\n    <tr>\n      <th>23</th>\n      <td>23</td>\n      <td>2023-07-24</td>\n      <td>1473</td>\n      <td>23</td>\n      <td>33.579580</td>\n    </tr>\n    <tr>\n      <th>24</th>\n      <td>24</td>\n      <td>2023-07-25</td>\n      <td>450</td>\n      <td>24</td>\n      <td>27.432170</td>\n    </tr>\n    <tr>\n      <th>25</th>\n      <td>25</td>\n      <td>2023-07-26</td>\n      <td>984</td>\n      <td>25</td>\n      <td>33.957569</td>\n    </tr>\n    <tr>\n      <th>26</th>\n      <td>26</td>\n      <td>2023-07-27</td>\n      <td>2766</td>\n      <td>26</td>\n      <td>23.926716</td>\n    </tr>\n    <tr>\n      <th>27</th>\n      <td>27</td>\n      <td>2023-07-28</td>\n      <td>1866</td>\n      <td>27</td>\n      <td>26.572704</td>\n    </tr>\n    <tr>\n      <th>28</th>\n      <td>28</td>\n      <td>2023-07-29</td>\n      <td>906</td>\n      <td>28</td>\n      <td>26.504578</td>\n    </tr>\n    <tr>\n      <th>29</th>\n      <td>29</td>\n      <td>2023-07-30</td>\n      <td>594</td>\n      <td>29</td>\n      <td>29.358892</td>\n    </tr>\n  </tbody>\n</table>\n</div>"
     },
     "execution_count": 9,
     "metadata": {},
     "output_type": "execute_result"
    }
   ],
   "source": [
    "final_df"
   ],
   "metadata": {
    "collapsed": false,
    "pycharm": {
     "name": "#%%\n"
    }
   }
  },
  {
   "cell_type": "code",
   "execution_count": 10,
   "outputs": [],
   "source": [
    "url = \"https://raw.githubusercontent.com/dm-fedorov/pandas_basic/master/%D0%B1%D1%8B%D1%81%D1%82%D1%80%D0%BE%D0%B5%20%D0%B2%D0%B2%D0%B5%D0%B4%D0%B5%D0%BD%D0%B8%D0%B5%20%D0%B2%20pandas/data/air_quality_no2_long.csv\"\n",
    "air_quality_no2 = pd.read_csv(url,\n",
    "                              parse_dates=True)"
   ],
   "metadata": {
    "collapsed": false,
    "pycharm": {
     "name": "#%%\n"
    }
   }
  },
  {
   "cell_type": "code",
   "execution_count": 11,
   "outputs": [
    {
     "data": {
      "text/plain": "        city country                   date.utc            location parameter  \\\n0      Paris      FR  2019-06-21 00:00:00+00:00             FR04014       no2   \n1      Paris      FR  2019-06-20 23:00:00+00:00             FR04014       no2   \n2      Paris      FR  2019-06-20 22:00:00+00:00             FR04014       no2   \n3      Paris      FR  2019-06-20 21:00:00+00:00             FR04014       no2   \n4      Paris      FR  2019-06-20 20:00:00+00:00             FR04014       no2   \n...      ...     ...                        ...                 ...       ...   \n2063  London      GB  2019-05-07 06:00:00+00:00  London Westminster       no2   \n2064  London      GB  2019-05-07 04:00:00+00:00  London Westminster       no2   \n2065  London      GB  2019-05-07 03:00:00+00:00  London Westminster       no2   \n2066  London      GB  2019-05-07 02:00:00+00:00  London Westminster       no2   \n2067  London      GB  2019-05-07 01:00:00+00:00  London Westminster       no2   \n\n      value   unit  \n0      20.0  µg/m³  \n1      21.8  µg/m³  \n2      26.5  µg/m³  \n3      24.9  µg/m³  \n4      21.4  µg/m³  \n...     ...    ...  \n2063   26.0  µg/m³  \n2064   16.0  µg/m³  \n2065   19.0  µg/m³  \n2066   19.0  µg/m³  \n2067   23.0  µg/m³  \n\n[2068 rows x 7 columns]",
      "text/html": "<div>\n<style scoped>\n    .dataframe tbody tr th:only-of-type {\n        vertical-align: middle;\n    }\n\n    .dataframe tbody tr th {\n        vertical-align: top;\n    }\n\n    .dataframe thead th {\n        text-align: right;\n    }\n</style>\n<table border=\"1\" class=\"dataframe\">\n  <thead>\n    <tr style=\"text-align: right;\">\n      <th></th>\n      <th>city</th>\n      <th>country</th>\n      <th>date.utc</th>\n      <th>location</th>\n      <th>parameter</th>\n      <th>value</th>\n      <th>unit</th>\n    </tr>\n  </thead>\n  <tbody>\n    <tr>\n      <th>0</th>\n      <td>Paris</td>\n      <td>FR</td>\n      <td>2019-06-21 00:00:00+00:00</td>\n      <td>FR04014</td>\n      <td>no2</td>\n      <td>20.0</td>\n      <td>µg/m³</td>\n    </tr>\n    <tr>\n      <th>1</th>\n      <td>Paris</td>\n      <td>FR</td>\n      <td>2019-06-20 23:00:00+00:00</td>\n      <td>FR04014</td>\n      <td>no2</td>\n      <td>21.8</td>\n      <td>µg/m³</td>\n    </tr>\n    <tr>\n      <th>2</th>\n      <td>Paris</td>\n      <td>FR</td>\n      <td>2019-06-20 22:00:00+00:00</td>\n      <td>FR04014</td>\n      <td>no2</td>\n      <td>26.5</td>\n      <td>µg/m³</td>\n    </tr>\n    <tr>\n      <th>3</th>\n      <td>Paris</td>\n      <td>FR</td>\n      <td>2019-06-20 21:00:00+00:00</td>\n      <td>FR04014</td>\n      <td>no2</td>\n      <td>24.9</td>\n      <td>µg/m³</td>\n    </tr>\n    <tr>\n      <th>4</th>\n      <td>Paris</td>\n      <td>FR</td>\n      <td>2019-06-20 20:00:00+00:00</td>\n      <td>FR04014</td>\n      <td>no2</td>\n      <td>21.4</td>\n      <td>µg/m³</td>\n    </tr>\n    <tr>\n      <th>...</th>\n      <td>...</td>\n      <td>...</td>\n      <td>...</td>\n      <td>...</td>\n      <td>...</td>\n      <td>...</td>\n      <td>...</td>\n    </tr>\n    <tr>\n      <th>2063</th>\n      <td>London</td>\n      <td>GB</td>\n      <td>2019-05-07 06:00:00+00:00</td>\n      <td>London Westminster</td>\n      <td>no2</td>\n      <td>26.0</td>\n      <td>µg/m³</td>\n    </tr>\n    <tr>\n      <th>2064</th>\n      <td>London</td>\n      <td>GB</td>\n      <td>2019-05-07 04:00:00+00:00</td>\n      <td>London Westminster</td>\n      <td>no2</td>\n      <td>16.0</td>\n      <td>µg/m³</td>\n    </tr>\n    <tr>\n      <th>2065</th>\n      <td>London</td>\n      <td>GB</td>\n      <td>2019-05-07 03:00:00+00:00</td>\n      <td>London Westminster</td>\n      <td>no2</td>\n      <td>19.0</td>\n      <td>µg/m³</td>\n    </tr>\n    <tr>\n      <th>2066</th>\n      <td>London</td>\n      <td>GB</td>\n      <td>2019-05-07 02:00:00+00:00</td>\n      <td>London Westminster</td>\n      <td>no2</td>\n      <td>19.0</td>\n      <td>µg/m³</td>\n    </tr>\n    <tr>\n      <th>2067</th>\n      <td>London</td>\n      <td>GB</td>\n      <td>2019-05-07 01:00:00+00:00</td>\n      <td>London Westminster</td>\n      <td>no2</td>\n      <td>23.0</td>\n      <td>µg/m³</td>\n    </tr>\n  </tbody>\n</table>\n<p>2068 rows × 7 columns</p>\n</div>"
     },
     "execution_count": 11,
     "metadata": {},
     "output_type": "execute_result"
    }
   ],
   "source": [
    "air_quality_no2"
   ],
   "metadata": {
    "collapsed": false,
    "pycharm": {
     "name": "#%%\n"
    }
   }
  },
  {
   "cell_type": "code",
   "execution_count": 12,
   "outputs": [
    {
     "data": {
      "text/plain": "    Unnamed: 0  client_id                  name   age\n0            0       2392        Alicia Higgins  47.0\n1            1       9213            Gary Evans  41.0\n2            2       7159      Matthew Chandler  52.0\n3            3       3643      William Gonzalez  18.0\n4            4       3425        Debra Phillips  53.0\n..         ...        ...                   ...   ...\n95          95         30        Mark Gutierrez   NaN\n96          96       8151         Zachary Miles  27.0\n97          97       4048  Dr. Tommy Sutton Jr.  39.0\n98          98       7771  Mrs. Theresa Vazquez   NaN\n99          99       8567           Terry Smith  23.0\n\n[100 rows x 4 columns]",
      "text/html": "<div>\n<style scoped>\n    .dataframe tbody tr th:only-of-type {\n        vertical-align: middle;\n    }\n\n    .dataframe tbody tr th {\n        vertical-align: top;\n    }\n\n    .dataframe thead th {\n        text-align: right;\n    }\n</style>\n<table border=\"1\" class=\"dataframe\">\n  <thead>\n    <tr style=\"text-align: right;\">\n      <th></th>\n      <th>Unnamed: 0</th>\n      <th>client_id</th>\n      <th>name</th>\n      <th>age</th>\n    </tr>\n  </thead>\n  <tbody>\n    <tr>\n      <th>0</th>\n      <td>0</td>\n      <td>2392</td>\n      <td>Alicia Higgins</td>\n      <td>47.0</td>\n    </tr>\n    <tr>\n      <th>1</th>\n      <td>1</td>\n      <td>9213</td>\n      <td>Gary Evans</td>\n      <td>41.0</td>\n    </tr>\n    <tr>\n      <th>2</th>\n      <td>2</td>\n      <td>7159</td>\n      <td>Matthew Chandler</td>\n      <td>52.0</td>\n    </tr>\n    <tr>\n      <th>3</th>\n      <td>3</td>\n      <td>3643</td>\n      <td>William Gonzalez</td>\n      <td>18.0</td>\n    </tr>\n    <tr>\n      <th>4</th>\n      <td>4</td>\n      <td>3425</td>\n      <td>Debra Phillips</td>\n      <td>53.0</td>\n    </tr>\n    <tr>\n      <th>...</th>\n      <td>...</td>\n      <td>...</td>\n      <td>...</td>\n      <td>...</td>\n    </tr>\n    <tr>\n      <th>95</th>\n      <td>95</td>\n      <td>30</td>\n      <td>Mark Gutierrez</td>\n      <td>NaN</td>\n    </tr>\n    <tr>\n      <th>96</th>\n      <td>96</td>\n      <td>8151</td>\n      <td>Zachary Miles</td>\n      <td>27.0</td>\n    </tr>\n    <tr>\n      <th>97</th>\n      <td>97</td>\n      <td>4048</td>\n      <td>Dr. Tommy Sutton Jr.</td>\n      <td>39.0</td>\n    </tr>\n    <tr>\n      <th>98</th>\n      <td>98</td>\n      <td>7771</td>\n      <td>Mrs. Theresa Vazquez</td>\n      <td>NaN</td>\n    </tr>\n    <tr>\n      <th>99</th>\n      <td>99</td>\n      <td>8567</td>\n      <td>Terry Smith</td>\n      <td>23.0</td>\n    </tr>\n  </tbody>\n</table>\n<p>100 rows × 4 columns</p>\n</div>"
     },
     "execution_count": 12,
     "metadata": {},
     "output_type": "execute_result"
    }
   ],
   "source": [
    "clients = pd.read_csv('data/2.3 clients.csv')\n",
    "clients"
   ],
   "metadata": {
    "collapsed": false,
    "pycharm": {
     "name": "#%%\n"
    }
   }
  },
  {
   "cell_type": "code",
   "execution_count": 16,
   "outputs": [
    {
     "data": {
      "text/plain": "<bound method DataFrame.nunique of                     name   salary      tax        zp  sal_for_year\n0         Alicia Higgins  27777.0  3611.01  24165.99      388878.0\n1             Gary Evans  27771.0  3610.23  24160.77      388794.0\n2       Matthew Chandler  27782.0  3611.66  24170.34      388948.0\n3       William Gonzalez  27748.0  3607.24  24140.76      388472.0\n4         Debra Phillips  27783.0  3611.79  24171.21      388962.0\n..                   ...      ...      ...       ...           ...\n73        Jennifer Hobbs  27808.0  3615.04  24192.96      389312.0\n74          George James  27767.0  3609.71  24157.29      388738.0\n75         Zachary Miles  27757.0  3608.41  24148.59      388598.0\n76  Dr. Tommy Sutton Jr.  27769.0  3609.97  24159.03      388766.0\n77           Terry Smith  27753.0  3607.89  24145.11      388542.0\n\n[78 rows x 5 columns]>"
     },
     "execution_count": 16,
     "metadata": {},
     "output_type": "execute_result"
    }
   ],
   "source": [],
   "metadata": {
    "collapsed": false,
    "pycharm": {
     "name": "#%%\n"
    }
   }
  },
  {
   "cell_type": "code",
   "execution_count": 29,
   "outputs": [],
   "source": [],
   "metadata": {
    "collapsed": false,
    "pycharm": {
     "name": "#%%\n"
    }
   }
  },
  {
   "cell_type": "code",
   "execution_count": 30,
   "outputs": [],
   "source": [
    "movies_df = pd.read_csv('movies.csv')"
   ],
   "metadata": {
    "collapsed": false,
    "pycharm": {
     "name": "#%%\n"
    }
   }
  },
  {
   "cell_type": "code",
   "execution_count": 6,
   "outputs": [
    {
     "data": {
      "text/plain": "symboling              int64\nmake                  object\nfuel_type             object\naspiration            object\nnum_of_doors           int64\nbody_style            object\ndrive_wheels          object\nengine_location       object\nwheel_base           float64\nlength               float64\nwidth                float64\nheight               float64\ncurb_weight            int64\nengine_type           object\nnum_of_cylinders       int64\nengine_size            int64\nfuel_system           object\nbore                 float64\nstroke               float64\ncompression_ratio      int64\nhorsepower             int64\npeak_rpm               int64\ncity_mpg               int64\nhighway_mpg            int64\nprice                  int64\ndtype: object"
     },
     "execution_count": 6,
     "metadata": {},
     "output_type": "execute_result"
    }
   ],
   "source": [
    "autos_df = pd.read_csv('2.4 autos.csv')\n",
    "autos_df.dtypes"
   ],
   "metadata": {
    "collapsed": false,
    "pycharm": {
     "name": "#%%\n"
    }
   }
  },
  {
   "cell_type": "code",
   "execution_count": 54,
   "outputs": [
    {
     "data": {
      "text/plain": "          date  temperature  sales\n0   2023-07-01    27.774945   2010\n1   2023-07-02    29.418479   1845\n2   2023-07-03    28.495733    141\n3   2023-07-04    30.369211   2007\n4   2023-07-05    23.527366   2592\n5   2023-07-06    33.863415    330\n6   2023-07-07    29.496996     18\n7   2023-07-08    29.572397   1245\n8   2023-07-09    26.581430   1689\n9   2023-07-10    27.585032   1794\n10  2023-07-11    28.778842   2511\n11  2023-07-12    23.835334   2160\n12  2023-07-13    30.944713    855\n13  2023-07-14    29.267127     27\n14  2023-07-15    25.575075   1839\n15  2023-07-16    28.632283   2043\n16  2023-07-17    32.013838    900\n17  2023-07-18    32.795059    300\n18  2023-07-19    24.799404    657\n19  2023-07-20    26.752678   2241\n20  2023-07-21    32.459505    849\n21  2023-07-22    24.321133    663\n22  2023-07-23    24.795955   2664\n23  2023-07-24    33.579580   1473\n24  2023-07-25    27.432170    450\n25  2023-07-26    33.957569    984\n26  2023-07-27    23.926716   2766\n27  2023-07-28    26.572704   1866\n28  2023-07-29    26.504578    906\n29  2023-07-30    29.358892    594",
      "text/html": "<div>\n<style scoped>\n    .dataframe tbody tr th:only-of-type {\n        vertical-align: middle;\n    }\n\n    .dataframe tbody tr th {\n        vertical-align: top;\n    }\n\n    .dataframe thead th {\n        text-align: right;\n    }\n</style>\n<table border=\"1\" class=\"dataframe\">\n  <thead>\n    <tr style=\"text-align: right;\">\n      <th></th>\n      <th>date</th>\n      <th>temperature</th>\n      <th>sales</th>\n    </tr>\n  </thead>\n  <tbody>\n    <tr>\n      <th>0</th>\n      <td>2023-07-01</td>\n      <td>27.774945</td>\n      <td>2010</td>\n    </tr>\n    <tr>\n      <th>1</th>\n      <td>2023-07-02</td>\n      <td>29.418479</td>\n      <td>1845</td>\n    </tr>\n    <tr>\n      <th>2</th>\n      <td>2023-07-03</td>\n      <td>28.495733</td>\n      <td>141</td>\n    </tr>\n    <tr>\n      <th>3</th>\n      <td>2023-07-04</td>\n      <td>30.369211</td>\n      <td>2007</td>\n    </tr>\n    <tr>\n      <th>4</th>\n      <td>2023-07-05</td>\n      <td>23.527366</td>\n      <td>2592</td>\n    </tr>\n    <tr>\n      <th>5</th>\n      <td>2023-07-06</td>\n      <td>33.863415</td>\n      <td>330</td>\n    </tr>\n    <tr>\n      <th>6</th>\n      <td>2023-07-07</td>\n      <td>29.496996</td>\n      <td>18</td>\n    </tr>\n    <tr>\n      <th>7</th>\n      <td>2023-07-08</td>\n      <td>29.572397</td>\n      <td>1245</td>\n    </tr>\n    <tr>\n      <th>8</th>\n      <td>2023-07-09</td>\n      <td>26.581430</td>\n      <td>1689</td>\n    </tr>\n    <tr>\n      <th>9</th>\n      <td>2023-07-10</td>\n      <td>27.585032</td>\n      <td>1794</td>\n    </tr>\n    <tr>\n      <th>10</th>\n      <td>2023-07-11</td>\n      <td>28.778842</td>\n      <td>2511</td>\n    </tr>\n    <tr>\n      <th>11</th>\n      <td>2023-07-12</td>\n      <td>23.835334</td>\n      <td>2160</td>\n    </tr>\n    <tr>\n      <th>12</th>\n      <td>2023-07-13</td>\n      <td>30.944713</td>\n      <td>855</td>\n    </tr>\n    <tr>\n      <th>13</th>\n      <td>2023-07-14</td>\n      <td>29.267127</td>\n      <td>27</td>\n    </tr>\n    <tr>\n      <th>14</th>\n      <td>2023-07-15</td>\n      <td>25.575075</td>\n      <td>1839</td>\n    </tr>\n    <tr>\n      <th>15</th>\n      <td>2023-07-16</td>\n      <td>28.632283</td>\n      <td>2043</td>\n    </tr>\n    <tr>\n      <th>16</th>\n      <td>2023-07-17</td>\n      <td>32.013838</td>\n      <td>900</td>\n    </tr>\n    <tr>\n      <th>17</th>\n      <td>2023-07-18</td>\n      <td>32.795059</td>\n      <td>300</td>\n    </tr>\n    <tr>\n      <th>18</th>\n      <td>2023-07-19</td>\n      <td>24.799404</td>\n      <td>657</td>\n    </tr>\n    <tr>\n      <th>19</th>\n      <td>2023-07-20</td>\n      <td>26.752678</td>\n      <td>2241</td>\n    </tr>\n    <tr>\n      <th>20</th>\n      <td>2023-07-21</td>\n      <td>32.459505</td>\n      <td>849</td>\n    </tr>\n    <tr>\n      <th>21</th>\n      <td>2023-07-22</td>\n      <td>24.321133</td>\n      <td>663</td>\n    </tr>\n    <tr>\n      <th>22</th>\n      <td>2023-07-23</td>\n      <td>24.795955</td>\n      <td>2664</td>\n    </tr>\n    <tr>\n      <th>23</th>\n      <td>2023-07-24</td>\n      <td>33.579580</td>\n      <td>1473</td>\n    </tr>\n    <tr>\n      <th>24</th>\n      <td>2023-07-25</td>\n      <td>27.432170</td>\n      <td>450</td>\n    </tr>\n    <tr>\n      <th>25</th>\n      <td>2023-07-26</td>\n      <td>33.957569</td>\n      <td>984</td>\n    </tr>\n    <tr>\n      <th>26</th>\n      <td>2023-07-27</td>\n      <td>23.926716</td>\n      <td>2766</td>\n    </tr>\n    <tr>\n      <th>27</th>\n      <td>2023-07-28</td>\n      <td>26.572704</td>\n      <td>1866</td>\n    </tr>\n    <tr>\n      <th>28</th>\n      <td>2023-07-29</td>\n      <td>26.504578</td>\n      <td>906</td>\n    </tr>\n    <tr>\n      <th>29</th>\n      <td>2023-07-30</td>\n      <td>29.358892</td>\n      <td>594</td>\n    </tr>\n  </tbody>\n</table>\n</div>"
     },
     "execution_count": 54,
     "metadata": {},
     "output_type": "execute_result"
    }
   ],
   "source": [
    "weather_df\n",
    "sales_df\n",
    "final_df = weather_df.merge(sales_df, left_on='date', right_on='date')\n"
   ],
   "metadata": {
    "collapsed": false,
    "pycharm": {
     "name": "#%%\n"
    }
   }
  },
  {
   "cell_type": "code",
   "execution_count": 57,
   "outputs": [
    {
     "data": {
      "text/plain": "     symboling         make fuel_type aspiration  num_of_doors   body_style  \\\n0            3  alfa-romero       gas        std             2  convertible   \n1            3  alfa-romero       gas        std             2  convertible   \n2            1  alfa-romero       gas        std             2    hatchback   \n3            2         audi       gas        std             4        sedan   \n4            2         audi       gas        std             4        sedan   \n..         ...          ...       ...        ...           ...          ...   \n188         -1        volvo       gas        std             4        sedan   \n189         -1        volvo       gas      turbo             4        sedan   \n190         -1        volvo       gas        std             4        sedan   \n191         -1        volvo    diesel      turbo             4        sedan   \n192         -1        volvo       gas      turbo             4        sedan   \n\n    drive_wheels engine_location  wheel_base  length  ...  engine_size  \\\n0            rwd           front        88.6   168.8  ...          130   \n1            rwd           front        88.6   168.8  ...          130   \n2            rwd           front        94.5   171.2  ...          152   \n3            fwd           front        99.8   176.6  ...          109   \n4            4wd           front        99.4   176.6  ...          136   \n..           ...             ...         ...     ...  ...          ...   \n188          rwd           front       109.1   188.8  ...          141   \n189          rwd           front       109.1   188.8  ...          141   \n190          rwd           front       109.1   188.8  ...          173   \n191          rwd           front       109.1   188.8  ...          145   \n192          rwd           front       109.1   188.8  ...          141   \n\n     fuel_system  bore stroke  compression_ratio  horsepower peak_rpm  \\\n0           mpfi  3.47   2.68                  9         111     5000   \n1           mpfi  3.47   2.68                  9         111     5000   \n2           mpfi  2.68   3.47                  9         154     5000   \n3           mpfi  3.19   3.40                 10         102     5500   \n4           mpfi  3.19   3.40                  8         115     5500   \n..           ...   ...    ...                ...         ...      ...   \n188         mpfi  3.78   3.15                  9         114     5400   \n189         mpfi  3.78   3.15                  8         160     5300   \n190         mpfi  3.58   2.87                  8         134     5500   \n191          idi  3.01   3.40                 23         106     4800   \n192         mpfi  3.78   3.15                  9         114     5400   \n\n     city_mpg  highway_mpg  price  \n0          21           27  13495  \n1          21           27  16500  \n2          19           26  16500  \n3          24           30  13950  \n4          18           22  17450  \n..        ...          ...    ...  \n188        23           28  16845  \n189        19           25  19045  \n190        18           23  21485  \n191        26           27  22470  \n192        19           25  22625  \n\n[193 rows x 25 columns]",
      "text/html": "<div>\n<style scoped>\n    .dataframe tbody tr th:only-of-type {\n        vertical-align: middle;\n    }\n\n    .dataframe tbody tr th {\n        vertical-align: top;\n    }\n\n    .dataframe thead th {\n        text-align: right;\n    }\n</style>\n<table border=\"1\" class=\"dataframe\">\n  <thead>\n    <tr style=\"text-align: right;\">\n      <th></th>\n      <th>symboling</th>\n      <th>make</th>\n      <th>fuel_type</th>\n      <th>aspiration</th>\n      <th>num_of_doors</th>\n      <th>body_style</th>\n      <th>drive_wheels</th>\n      <th>engine_location</th>\n      <th>wheel_base</th>\n      <th>length</th>\n      <th>...</th>\n      <th>engine_size</th>\n      <th>fuel_system</th>\n      <th>bore</th>\n      <th>stroke</th>\n      <th>compression_ratio</th>\n      <th>horsepower</th>\n      <th>peak_rpm</th>\n      <th>city_mpg</th>\n      <th>highway_mpg</th>\n      <th>price</th>\n    </tr>\n  </thead>\n  <tbody>\n    <tr>\n      <th>0</th>\n      <td>3</td>\n      <td>alfa-romero</td>\n      <td>gas</td>\n      <td>std</td>\n      <td>2</td>\n      <td>convertible</td>\n      <td>rwd</td>\n      <td>front</td>\n      <td>88.6</td>\n      <td>168.8</td>\n      <td>...</td>\n      <td>130</td>\n      <td>mpfi</td>\n      <td>3.47</td>\n      <td>2.68</td>\n      <td>9</td>\n      <td>111</td>\n      <td>5000</td>\n      <td>21</td>\n      <td>27</td>\n      <td>13495</td>\n    </tr>\n    <tr>\n      <th>1</th>\n      <td>3</td>\n      <td>alfa-romero</td>\n      <td>gas</td>\n      <td>std</td>\n      <td>2</td>\n      <td>convertible</td>\n      <td>rwd</td>\n      <td>front</td>\n      <td>88.6</td>\n      <td>168.8</td>\n      <td>...</td>\n      <td>130</td>\n      <td>mpfi</td>\n      <td>3.47</td>\n      <td>2.68</td>\n      <td>9</td>\n      <td>111</td>\n      <td>5000</td>\n      <td>21</td>\n      <td>27</td>\n      <td>16500</td>\n    </tr>\n    <tr>\n      <th>2</th>\n      <td>1</td>\n      <td>alfa-romero</td>\n      <td>gas</td>\n      <td>std</td>\n      <td>2</td>\n      <td>hatchback</td>\n      <td>rwd</td>\n      <td>front</td>\n      <td>94.5</td>\n      <td>171.2</td>\n      <td>...</td>\n      <td>152</td>\n      <td>mpfi</td>\n      <td>2.68</td>\n      <td>3.47</td>\n      <td>9</td>\n      <td>154</td>\n      <td>5000</td>\n      <td>19</td>\n      <td>26</td>\n      <td>16500</td>\n    </tr>\n    <tr>\n      <th>3</th>\n      <td>2</td>\n      <td>audi</td>\n      <td>gas</td>\n      <td>std</td>\n      <td>4</td>\n      <td>sedan</td>\n      <td>fwd</td>\n      <td>front</td>\n      <td>99.8</td>\n      <td>176.6</td>\n      <td>...</td>\n      <td>109</td>\n      <td>mpfi</td>\n      <td>3.19</td>\n      <td>3.40</td>\n      <td>10</td>\n      <td>102</td>\n      <td>5500</td>\n      <td>24</td>\n      <td>30</td>\n      <td>13950</td>\n    </tr>\n    <tr>\n      <th>4</th>\n      <td>2</td>\n      <td>audi</td>\n      <td>gas</td>\n      <td>std</td>\n      <td>4</td>\n      <td>sedan</td>\n      <td>4wd</td>\n      <td>front</td>\n      <td>99.4</td>\n      <td>176.6</td>\n      <td>...</td>\n      <td>136</td>\n      <td>mpfi</td>\n      <td>3.19</td>\n      <td>3.40</td>\n      <td>8</td>\n      <td>115</td>\n      <td>5500</td>\n      <td>18</td>\n      <td>22</td>\n      <td>17450</td>\n    </tr>\n    <tr>\n      <th>...</th>\n      <td>...</td>\n      <td>...</td>\n      <td>...</td>\n      <td>...</td>\n      <td>...</td>\n      <td>...</td>\n      <td>...</td>\n      <td>...</td>\n      <td>...</td>\n      <td>...</td>\n      <td>...</td>\n      <td>...</td>\n      <td>...</td>\n      <td>...</td>\n      <td>...</td>\n      <td>...</td>\n      <td>...</td>\n      <td>...</td>\n      <td>...</td>\n      <td>...</td>\n      <td>...</td>\n    </tr>\n    <tr>\n      <th>188</th>\n      <td>-1</td>\n      <td>volvo</td>\n      <td>gas</td>\n      <td>std</td>\n      <td>4</td>\n      <td>sedan</td>\n      <td>rwd</td>\n      <td>front</td>\n      <td>109.1</td>\n      <td>188.8</td>\n      <td>...</td>\n      <td>141</td>\n      <td>mpfi</td>\n      <td>3.78</td>\n      <td>3.15</td>\n      <td>9</td>\n      <td>114</td>\n      <td>5400</td>\n      <td>23</td>\n      <td>28</td>\n      <td>16845</td>\n    </tr>\n    <tr>\n      <th>189</th>\n      <td>-1</td>\n      <td>volvo</td>\n      <td>gas</td>\n      <td>turbo</td>\n      <td>4</td>\n      <td>sedan</td>\n      <td>rwd</td>\n      <td>front</td>\n      <td>109.1</td>\n      <td>188.8</td>\n      <td>...</td>\n      <td>141</td>\n      <td>mpfi</td>\n      <td>3.78</td>\n      <td>3.15</td>\n      <td>8</td>\n      <td>160</td>\n      <td>5300</td>\n      <td>19</td>\n      <td>25</td>\n      <td>19045</td>\n    </tr>\n    <tr>\n      <th>190</th>\n      <td>-1</td>\n      <td>volvo</td>\n      <td>gas</td>\n      <td>std</td>\n      <td>4</td>\n      <td>sedan</td>\n      <td>rwd</td>\n      <td>front</td>\n      <td>109.1</td>\n      <td>188.8</td>\n      <td>...</td>\n      <td>173</td>\n      <td>mpfi</td>\n      <td>3.58</td>\n      <td>2.87</td>\n      <td>8</td>\n      <td>134</td>\n      <td>5500</td>\n      <td>18</td>\n      <td>23</td>\n      <td>21485</td>\n    </tr>\n    <tr>\n      <th>191</th>\n      <td>-1</td>\n      <td>volvo</td>\n      <td>diesel</td>\n      <td>turbo</td>\n      <td>4</td>\n      <td>sedan</td>\n      <td>rwd</td>\n      <td>front</td>\n      <td>109.1</td>\n      <td>188.8</td>\n      <td>...</td>\n      <td>145</td>\n      <td>idi</td>\n      <td>3.01</td>\n      <td>3.40</td>\n      <td>23</td>\n      <td>106</td>\n      <td>4800</td>\n      <td>26</td>\n      <td>27</td>\n      <td>22470</td>\n    </tr>\n    <tr>\n      <th>192</th>\n      <td>-1</td>\n      <td>volvo</td>\n      <td>gas</td>\n      <td>turbo</td>\n      <td>4</td>\n      <td>sedan</td>\n      <td>rwd</td>\n      <td>front</td>\n      <td>109.1</td>\n      <td>188.8</td>\n      <td>...</td>\n      <td>141</td>\n      <td>mpfi</td>\n      <td>3.78</td>\n      <td>3.15</td>\n      <td>9</td>\n      <td>114</td>\n      <td>5400</td>\n      <td>19</td>\n      <td>25</td>\n      <td>22625</td>\n    </tr>\n  </tbody>\n</table>\n<p>193 rows × 25 columns</p>\n</div>"
     },
     "execution_count": 57,
     "metadata": {},
     "output_type": "execute_result"
    }
   ],
   "source": [
    "autos_df"
   ],
   "metadata": {
    "collapsed": false,
    "pycharm": {
     "name": "#%%\n"
    }
   }
  },
  {
   "cell_type": "markdown",
   "source": [],
   "metadata": {
    "collapsed": false,
    "pycharm": {
     "name": "#%% md\n"
    }
   }
  },
  {
   "cell_type": "code",
   "execution_count": 52,
   "outputs": [
    {
     "data": {
      "text/plain": "    Unnamed: 0        date  sales\n0            0  2023-07-01   2010\n1            1  2023-07-02   1845\n2            2  2023-07-03    141\n3            3  2023-07-04   2007\n4            4  2023-07-05   2592\n5            5  2023-07-06    330\n6            6  2023-07-07     18\n7            7  2023-07-08   1245\n8            8  2023-07-09   1689\n9            9  2023-07-10   1794\n10          10  2023-07-11   2511\n11          11  2023-07-12   2160\n12          12  2023-07-13    855\n13          13  2023-07-14     27\n14          14  2023-07-15   1839\n15          15  2023-07-16   2043\n16          16  2023-07-17    900\n17          17  2023-07-18    300\n18          18  2023-07-19    657\n19          19  2023-07-20   2241\n20          20  2023-07-21    849\n21          21  2023-07-22    663\n22          22  2023-07-23   2664\n23          23  2023-07-24   1473\n24          24  2023-07-25    450\n25          25  2023-07-26    984\n26          26  2023-07-27   2766\n27          27  2023-07-28   1866\n28          28  2023-07-29    906\n29          29  2023-07-30    594",
      "text/html": "<div>\n<style scoped>\n    .dataframe tbody tr th:only-of-type {\n        vertical-align: middle;\n    }\n\n    .dataframe tbody tr th {\n        vertical-align: top;\n    }\n\n    .dataframe thead th {\n        text-align: right;\n    }\n</style>\n<table border=\"1\" class=\"dataframe\">\n  <thead>\n    <tr style=\"text-align: right;\">\n      <th></th>\n      <th>Unnamed: 0</th>\n      <th>date</th>\n      <th>sales</th>\n    </tr>\n  </thead>\n  <tbody>\n    <tr>\n      <th>0</th>\n      <td>0</td>\n      <td>2023-07-01</td>\n      <td>2010</td>\n    </tr>\n    <tr>\n      <th>1</th>\n      <td>1</td>\n      <td>2023-07-02</td>\n      <td>1845</td>\n    </tr>\n    <tr>\n      <th>2</th>\n      <td>2</td>\n      <td>2023-07-03</td>\n      <td>141</td>\n    </tr>\n    <tr>\n      <th>3</th>\n      <td>3</td>\n      <td>2023-07-04</td>\n      <td>2007</td>\n    </tr>\n    <tr>\n      <th>4</th>\n      <td>4</td>\n      <td>2023-07-05</td>\n      <td>2592</td>\n    </tr>\n    <tr>\n      <th>5</th>\n      <td>5</td>\n      <td>2023-07-06</td>\n      <td>330</td>\n    </tr>\n    <tr>\n      <th>6</th>\n      <td>6</td>\n      <td>2023-07-07</td>\n      <td>18</td>\n    </tr>\n    <tr>\n      <th>7</th>\n      <td>7</td>\n      <td>2023-07-08</td>\n      <td>1245</td>\n    </tr>\n    <tr>\n      <th>8</th>\n      <td>8</td>\n      <td>2023-07-09</td>\n      <td>1689</td>\n    </tr>\n    <tr>\n      <th>9</th>\n      <td>9</td>\n      <td>2023-07-10</td>\n      <td>1794</td>\n    </tr>\n    <tr>\n      <th>10</th>\n      <td>10</td>\n      <td>2023-07-11</td>\n      <td>2511</td>\n    </tr>\n    <tr>\n      <th>11</th>\n      <td>11</td>\n      <td>2023-07-12</td>\n      <td>2160</td>\n    </tr>\n    <tr>\n      <th>12</th>\n      <td>12</td>\n      <td>2023-07-13</td>\n      <td>855</td>\n    </tr>\n    <tr>\n      <th>13</th>\n      <td>13</td>\n      <td>2023-07-14</td>\n      <td>27</td>\n    </tr>\n    <tr>\n      <th>14</th>\n      <td>14</td>\n      <td>2023-07-15</td>\n      <td>1839</td>\n    </tr>\n    <tr>\n      <th>15</th>\n      <td>15</td>\n      <td>2023-07-16</td>\n      <td>2043</td>\n    </tr>\n    <tr>\n      <th>16</th>\n      <td>16</td>\n      <td>2023-07-17</td>\n      <td>900</td>\n    </tr>\n    <tr>\n      <th>17</th>\n      <td>17</td>\n      <td>2023-07-18</td>\n      <td>300</td>\n    </tr>\n    <tr>\n      <th>18</th>\n      <td>18</td>\n      <td>2023-07-19</td>\n      <td>657</td>\n    </tr>\n    <tr>\n      <th>19</th>\n      <td>19</td>\n      <td>2023-07-20</td>\n      <td>2241</td>\n    </tr>\n    <tr>\n      <th>20</th>\n      <td>20</td>\n      <td>2023-07-21</td>\n      <td>849</td>\n    </tr>\n    <tr>\n      <th>21</th>\n      <td>21</td>\n      <td>2023-07-22</td>\n      <td>663</td>\n    </tr>\n    <tr>\n      <th>22</th>\n      <td>22</td>\n      <td>2023-07-23</td>\n      <td>2664</td>\n    </tr>\n    <tr>\n      <th>23</th>\n      <td>23</td>\n      <td>2023-07-24</td>\n      <td>1473</td>\n    </tr>\n    <tr>\n      <th>24</th>\n      <td>24</td>\n      <td>2023-07-25</td>\n      <td>450</td>\n    </tr>\n    <tr>\n      <th>25</th>\n      <td>25</td>\n      <td>2023-07-26</td>\n      <td>984</td>\n    </tr>\n    <tr>\n      <th>26</th>\n      <td>26</td>\n      <td>2023-07-27</td>\n      <td>2766</td>\n    </tr>\n    <tr>\n      <th>27</th>\n      <td>27</td>\n      <td>2023-07-28</td>\n      <td>1866</td>\n    </tr>\n    <tr>\n      <th>28</th>\n      <td>28</td>\n      <td>2023-07-29</td>\n      <td>906</td>\n    </tr>\n    <tr>\n      <th>29</th>\n      <td>29</td>\n      <td>2023-07-30</td>\n      <td>594</td>\n    </tr>\n  </tbody>\n</table>\n</div>"
     },
     "execution_count": 52,
     "metadata": {},
     "output_type": "execute_result"
    }
   ],
   "source": [
    "sales_df"
   ],
   "metadata": {
    "collapsed": false,
    "pycharm": {
     "name": "#%%\n"
    }
   }
  },
  {
   "cell_type": "code",
   "execution_count": 4,
   "outputs": [],
   "source": [
    "import pandas as pd\n",
    "import numpy as np\n",
    "employees = pd.read_csv('employees.csv')\n",
    "employees = employees.iloc[:, 3:]\n",
    "employees['tax'] = employees['salary'] * 0.13\n",
    "employees['zp'] = employees['salary'] - employees['tax']\n",
    "employees['sal_for_year'] = employees['salary'] * 12 + employees['salary'] * 2"
   ],
   "metadata": {
    "collapsed": false,
    "pycharm": {
     "name": "#%%\n"
    }
   }
  },
  {
   "cell_type": "code",
   "execution_count": 5,
   "outputs": [
    {
     "data": {
      "text/plain": "2167267.0"
     },
     "execution_count": 5,
     "metadata": {},
     "output_type": "execute_result"
    }
   ],
   "source": [
    "sum_for_org = sum(employees.salary)\n",
    "sum_for_org"
   ],
   "metadata": {
    "collapsed": false,
    "pycharm": {
     "name": "#%%\n"
    }
   }
  },
  {
   "cell_type": "code",
   "execution_count": null,
   "outputs": [],
   "source": [],
   "metadata": {
    "collapsed": false,
    "pycharm": {
     "name": "#%%\n"
    }
   }
  }
 ],
 "metadata": {
  "kernelspec": {
   "display_name": "Python 3",
   "language": "python",
   "name": "python3"
  },
  "language_info": {
   "codemirror_mode": {
    "name": "ipython",
    "version": 2
   },
   "file_extension": ".py",
   "mimetype": "text/x-python",
   "name": "python",
   "nbconvert_exporter": "python",
   "pygments_lexer": "ipython2",
   "version": "2.7.6"
  }
 },
 "nbformat": 4,
 "nbformat_minor": 0
}
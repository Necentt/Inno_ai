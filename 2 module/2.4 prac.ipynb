{
 "cells": [
  {
   "cell_type": "code",
   "execution_count": 1,
   "metadata": {
    "collapsed": true,
    "pycharm": {
     "name": "#%%\n"
    }
   },
   "outputs": [],
   "source": [
    "import pandas as pd\n",
    "import numpy as np"
   ]
  },
  {
   "cell_type": "code",
   "execution_count": 2,
   "outputs": [],
   "source": [],
   "metadata": {
    "collapsed": false,
    "pycharm": {
     "name": "#%%\n"
    }
   }
  },
  {
   "cell_type": "code",
   "execution_count": 12,
   "outputs": [
    {
     "name": "stdout",
     "output_type": "stream",
     "text": [
      "    Unnamed: 0        date  sales\n",
      "0            0  2023-07-01   2010\n",
      "1            1  2023-07-02   1845\n",
      "2            2  2023-07-03    141\n",
      "3            3  2023-07-04   2007\n",
      "4            4  2023-07-05   2592\n",
      "5            5  2023-07-06    330\n",
      "6            6  2023-07-07     18\n",
      "7            7  2023-07-08   1245\n",
      "8            8  2023-07-09   1689\n",
      "9            9  2023-07-10   1794\n",
      "10          10  2023-07-11   2511\n",
      "11          11  2023-07-12   2160\n",
      "12          12  2023-07-13    855\n",
      "13          13  2023-07-14     27\n",
      "14          14  2023-07-15   1839\n",
      "15          15  2023-07-16   2043\n",
      "16          16  2023-07-17    900\n",
      "17          17  2023-07-18    300\n",
      "18          18  2023-07-19    657\n",
      "19          19  2023-07-20   2241\n",
      "20          20  2023-07-21    849\n",
      "21          21  2023-07-22    663\n",
      "22          22  2023-07-23   2664\n",
      "23          23  2023-07-24   1473\n",
      "24          24  2023-07-25    450\n",
      "25          25  2023-07-26    984\n",
      "26          26  2023-07-27   2766\n",
      "27          27  2023-07-28   1866\n",
      "28          28  2023-07-29    906\n",
      "29          29  2023-07-30    594\n"
     ]
    }
   ],
   "source": [
    "print(sales_df)"
   ],
   "metadata": {
    "collapsed": false,
    "pycharm": {
     "name": "#%%\n"
    }
   }
  },
  {
   "cell_type": "code",
   "execution_count": 13,
   "outputs": [
    {
     "name": "stdout",
     "output_type": "stream",
     "text": [
      "    Unnamed: 0        date  temperature\n",
      "0            0  2023-07-01    27.774945\n",
      "1            1  2023-07-02    29.418479\n",
      "2            2  2023-07-03    28.495733\n",
      "3            3  2023-07-04    30.369211\n",
      "4            4  2023-07-05    23.527366\n",
      "5            5  2023-07-06    33.863415\n",
      "6            6  2023-07-07    29.496996\n",
      "7            7  2023-07-08    29.572397\n",
      "8            8  2023-07-09    26.581430\n",
      "9            9  2023-07-10    27.585032\n",
      "10          10  2023-07-11    28.778842\n",
      "11          11  2023-07-12    23.835334\n",
      "12          12  2023-07-13    30.944713\n",
      "13          13  2023-07-14    29.267127\n",
      "14          14  2023-07-15    25.575075\n",
      "15          15  2023-07-16    28.632283\n",
      "16          16  2023-07-17    32.013838\n",
      "17          17  2023-07-18    32.795059\n",
      "18          18  2023-07-19    24.799404\n",
      "19          19  2023-07-20    26.752678\n",
      "20          20  2023-07-21    32.459505\n",
      "21          21  2023-07-22    24.321133\n",
      "22          22  2023-07-23    24.795955\n",
      "23          23  2023-07-24    33.579580\n",
      "24          24  2023-07-25    27.432170\n",
      "25          25  2023-07-26    33.957569\n",
      "26          26  2023-07-27    23.926716\n",
      "27          27  2023-07-28    26.572704\n",
      "28          28  2023-07-29    26.504578\n",
      "29          29  2023-07-30    29.358892\n"
     ]
    }
   ],
   "source": [
    "print(weather_df)\n",
    "merge"
   ],
   "metadata": {
    "collapsed": false,
    "pycharm": {
     "name": "#%%\n"
    }
   }
  },
  {
   "cell_type": "markdown",
   "source": [
    "Unnamed: 0        date  temperature sales\n",
    "0            0  2023-07-01    27.774945 2010\n",
    "1            1  2023-07-02    29.418479 1845"
   ],
   "metadata": {
    "collapsed": false,
    "pycharm": {
     "name": "#%% md\n"
    }
   }
  },
  {
   "cell_type": "code",
   "execution_count": 16,
   "outputs": [
    {
     "name": "stdout",
     "output_type": "stream",
     "text": [
      "    Unnamed: 0        date  temperature  sales\n",
      "0            0  2023-07-01    27.774945   2010\n",
      "1            1  2023-07-02    29.418479   1845\n",
      "2            2  2023-07-03    28.495733    141\n",
      "3            3  2023-07-04    30.369211   2007\n",
      "4            4  2023-07-05    23.527366   2592\n",
      "5            5  2023-07-06    33.863415    330\n",
      "6            6  2023-07-07    29.496996     18\n",
      "7            7  2023-07-08    29.572397   1245\n",
      "8            8  2023-07-09    26.581430   1689\n",
      "9            9  2023-07-10    27.585032   1794\n",
      "10          10  2023-07-11    28.778842   2511\n",
      "11          11  2023-07-12    23.835334   2160\n",
      "12          12  2023-07-13    30.944713    855\n",
      "13          13  2023-07-14    29.267127     27\n",
      "14          14  2023-07-15    25.575075   1839\n",
      "15          15  2023-07-16    28.632283   2043\n",
      "16          16  2023-07-17    32.013838    900\n",
      "17          17  2023-07-18    32.795059    300\n",
      "18          18  2023-07-19    24.799404    657\n",
      "19          19  2023-07-20    26.752678   2241\n",
      "20          20  2023-07-21    32.459505    849\n",
      "21          21  2023-07-22    24.321133    663\n",
      "22          22  2023-07-23    24.795955   2664\n",
      "23          23  2023-07-24    33.579580   1473\n",
      "24          24  2023-07-25    27.432170    450\n",
      "25          25  2023-07-26    33.957569    984\n",
      "26          26  2023-07-27    23.926716   2766\n",
      "27          27  2023-07-28    26.572704   1866\n",
      "28          28  2023-07-29    26.504578    906\n",
      "29          29  2023-07-30    29.358892    594\n"
     ]
    }
   ],
   "source": [
    "sales_df = pd.read_csv('2.4 sales.csv')\n",
    "weather_df = pd.read_csv('2.4 weather.csv')\n",
    "final_df = weather_df.merge(sales_df)\n",
    "print(final_df)"
   ],
   "metadata": {
    "collapsed": false,
    "pycharm": {
     "name": "#%%\n"
    }
   }
  },
  {
   "cell_type": "code",
   "execution_count": 21,
   "outputs": [],
   "source": [
    "import numpy as np\n",
    "import pandas as pd\n",
    "autos_df = pd.read_csv('2.4 autos.csv')"
   ],
   "metadata": {
    "collapsed": false,
    "pycharm": {
     "name": "#%%\n"
    }
   }
  },
  {
   "cell_type": "code",
   "execution_count": 19,
   "outputs": [
    {
     "name": "stdout",
     "output_type": "stream",
     "text": [
      "Index(['symboling', 'make', 'fuel_type', 'aspiration', 'num_of_doors',\n",
      "       'body_style', 'drive_wheels', 'engine_location', 'wheel_base', 'length',\n",
      "       'width', 'height', 'curb_weight', 'engine_type', 'num_of_cylinders',\n",
      "       'engine_size', 'fuel_system', 'bore', 'stroke', 'compression_ratio',\n",
      "       'horsepower', 'peak_rpm', 'city_mpg', 'highway_mpg', 'price'],\n",
      "      dtype='object')\n"
     ]
    }
   ],
   "source": [
    "print(autos_df.columns)"
   ],
   "metadata": {
    "collapsed": false,
    "pycharm": {
     "name": "#%%\n"
    }
   }
  },
  {
   "cell_type": "code",
   "execution_count": 23,
   "outputs": [],
   "source": [
    "autos_df['displacement'] = (np.pi * ((autos_df.bore*0.5)**2) * autos_df.stroke * autos_df.num_of_cylinders)"
   ],
   "metadata": {
    "collapsed": false,
    "pycharm": {
     "name": "#%%\n"
    }
   }
  },
  {
   "cell_type": "code",
   "execution_count": 24,
   "outputs": [
    {
     "data": {
      "text/plain": "     symboling         make fuel_type aspiration  num_of_doors   body_style  \\\n0            3  alfa-romero       gas        std             2  convertible   \n1            3  alfa-romero       gas        std             2  convertible   \n2            1  alfa-romero       gas        std             2    hatchback   \n3            2         audi       gas        std             4        sedan   \n4            2         audi       gas        std             4        sedan   \n..         ...          ...       ...        ...           ...          ...   \n188         -1        volvo       gas        std             4        sedan   \n189         -1        volvo       gas      turbo             4        sedan   \n190         -1        volvo       gas        std             4        sedan   \n191         -1        volvo    diesel      turbo             4        sedan   \n192         -1        volvo       gas      turbo             4        sedan   \n\n    drive_wheels engine_location  wheel_base  length  ...  fuel_system  bore  \\\n0            rwd           front        88.6   168.8  ...         mpfi  3.47   \n1            rwd           front        88.6   168.8  ...         mpfi  3.47   \n2            rwd           front        94.5   171.2  ...         mpfi  2.68   \n3            fwd           front        99.8   176.6  ...         mpfi  3.19   \n4            4wd           front        99.4   176.6  ...         mpfi  3.19   \n..           ...             ...         ...     ...  ...          ...   ...   \n188          rwd           front       109.1   188.8  ...         mpfi  3.78   \n189          rwd           front       109.1   188.8  ...         mpfi  3.78   \n190          rwd           front       109.1   188.8  ...         mpfi  3.58   \n191          rwd           front       109.1   188.8  ...          idi  3.01   \n192          rwd           front       109.1   188.8  ...         mpfi  3.78   \n\n     stroke compression_ratio  horsepower  peak_rpm city_mpg  highway_mpg  \\\n0      2.68                 9         111      5000       21           27   \n1      2.68                 9         111      5000       21           27   \n2      3.47                 9         154      5000       19           26   \n3      3.40                10         102      5500       24           30   \n4      3.40                 8         115      5500       18           22   \n..      ...               ...         ...       ...      ...          ...   \n188    3.15                 9         114      5400       23           28   \n189    3.15                 8         160      5300       19           25   \n190    2.87                 8         134      5500       18           23   \n191    3.40                23         106      4800       26           27   \n192    3.15                 9         114      5400       19           25   \n\n     price  displacement  \n0    13495    101.377976  \n1    16500    101.377976  \n2    16500    117.446531  \n3    13950    108.695147  \n4    17450    135.868934  \n..     ...           ...  \n188  16845    141.398247  \n189  19045    141.398247  \n190  21485    173.336124  \n191  22470    145.162032  \n192  22625    141.398247  \n\n[193 rows x 26 columns]",
      "text/html": "<div>\n<style scoped>\n    .dataframe tbody tr th:only-of-type {\n        vertical-align: middle;\n    }\n\n    .dataframe tbody tr th {\n        vertical-align: top;\n    }\n\n    .dataframe thead th {\n        text-align: right;\n    }\n</style>\n<table border=\"1\" class=\"dataframe\">\n  <thead>\n    <tr style=\"text-align: right;\">\n      <th></th>\n      <th>symboling</th>\n      <th>make</th>\n      <th>fuel_type</th>\n      <th>aspiration</th>\n      <th>num_of_doors</th>\n      <th>body_style</th>\n      <th>drive_wheels</th>\n      <th>engine_location</th>\n      <th>wheel_base</th>\n      <th>length</th>\n      <th>...</th>\n      <th>fuel_system</th>\n      <th>bore</th>\n      <th>stroke</th>\n      <th>compression_ratio</th>\n      <th>horsepower</th>\n      <th>peak_rpm</th>\n      <th>city_mpg</th>\n      <th>highway_mpg</th>\n      <th>price</th>\n      <th>displacement</th>\n    </tr>\n  </thead>\n  <tbody>\n    <tr>\n      <th>0</th>\n      <td>3</td>\n      <td>alfa-romero</td>\n      <td>gas</td>\n      <td>std</td>\n      <td>2</td>\n      <td>convertible</td>\n      <td>rwd</td>\n      <td>front</td>\n      <td>88.6</td>\n      <td>168.8</td>\n      <td>...</td>\n      <td>mpfi</td>\n      <td>3.47</td>\n      <td>2.68</td>\n      <td>9</td>\n      <td>111</td>\n      <td>5000</td>\n      <td>21</td>\n      <td>27</td>\n      <td>13495</td>\n      <td>101.377976</td>\n    </tr>\n    <tr>\n      <th>1</th>\n      <td>3</td>\n      <td>alfa-romero</td>\n      <td>gas</td>\n      <td>std</td>\n      <td>2</td>\n      <td>convertible</td>\n      <td>rwd</td>\n      <td>front</td>\n      <td>88.6</td>\n      <td>168.8</td>\n      <td>...</td>\n      <td>mpfi</td>\n      <td>3.47</td>\n      <td>2.68</td>\n      <td>9</td>\n      <td>111</td>\n      <td>5000</td>\n      <td>21</td>\n      <td>27</td>\n      <td>16500</td>\n      <td>101.377976</td>\n    </tr>\n    <tr>\n      <th>2</th>\n      <td>1</td>\n      <td>alfa-romero</td>\n      <td>gas</td>\n      <td>std</td>\n      <td>2</td>\n      <td>hatchback</td>\n      <td>rwd</td>\n      <td>front</td>\n      <td>94.5</td>\n      <td>171.2</td>\n      <td>...</td>\n      <td>mpfi</td>\n      <td>2.68</td>\n      <td>3.47</td>\n      <td>9</td>\n      <td>154</td>\n      <td>5000</td>\n      <td>19</td>\n      <td>26</td>\n      <td>16500</td>\n      <td>117.446531</td>\n    </tr>\n    <tr>\n      <th>3</th>\n      <td>2</td>\n      <td>audi</td>\n      <td>gas</td>\n      <td>std</td>\n      <td>4</td>\n      <td>sedan</td>\n      <td>fwd</td>\n      <td>front</td>\n      <td>99.8</td>\n      <td>176.6</td>\n      <td>...</td>\n      <td>mpfi</td>\n      <td>3.19</td>\n      <td>3.40</td>\n      <td>10</td>\n      <td>102</td>\n      <td>5500</td>\n      <td>24</td>\n      <td>30</td>\n      <td>13950</td>\n      <td>108.695147</td>\n    </tr>\n    <tr>\n      <th>4</th>\n      <td>2</td>\n      <td>audi</td>\n      <td>gas</td>\n      <td>std</td>\n      <td>4</td>\n      <td>sedan</td>\n      <td>4wd</td>\n      <td>front</td>\n      <td>99.4</td>\n      <td>176.6</td>\n      <td>...</td>\n      <td>mpfi</td>\n      <td>3.19</td>\n      <td>3.40</td>\n      <td>8</td>\n      <td>115</td>\n      <td>5500</td>\n      <td>18</td>\n      <td>22</td>\n      <td>17450</td>\n      <td>135.868934</td>\n    </tr>\n    <tr>\n      <th>...</th>\n      <td>...</td>\n      <td>...</td>\n      <td>...</td>\n      <td>...</td>\n      <td>...</td>\n      <td>...</td>\n      <td>...</td>\n      <td>...</td>\n      <td>...</td>\n      <td>...</td>\n      <td>...</td>\n      <td>...</td>\n      <td>...</td>\n      <td>...</td>\n      <td>...</td>\n      <td>...</td>\n      <td>...</td>\n      <td>...</td>\n      <td>...</td>\n      <td>...</td>\n      <td>...</td>\n    </tr>\n    <tr>\n      <th>188</th>\n      <td>-1</td>\n      <td>volvo</td>\n      <td>gas</td>\n      <td>std</td>\n      <td>4</td>\n      <td>sedan</td>\n      <td>rwd</td>\n      <td>front</td>\n      <td>109.1</td>\n      <td>188.8</td>\n      <td>...</td>\n      <td>mpfi</td>\n      <td>3.78</td>\n      <td>3.15</td>\n      <td>9</td>\n      <td>114</td>\n      <td>5400</td>\n      <td>23</td>\n      <td>28</td>\n      <td>16845</td>\n      <td>141.398247</td>\n    </tr>\n    <tr>\n      <th>189</th>\n      <td>-1</td>\n      <td>volvo</td>\n      <td>gas</td>\n      <td>turbo</td>\n      <td>4</td>\n      <td>sedan</td>\n      <td>rwd</td>\n      <td>front</td>\n      <td>109.1</td>\n      <td>188.8</td>\n      <td>...</td>\n      <td>mpfi</td>\n      <td>3.78</td>\n      <td>3.15</td>\n      <td>8</td>\n      <td>160</td>\n      <td>5300</td>\n      <td>19</td>\n      <td>25</td>\n      <td>19045</td>\n      <td>141.398247</td>\n    </tr>\n    <tr>\n      <th>190</th>\n      <td>-1</td>\n      <td>volvo</td>\n      <td>gas</td>\n      <td>std</td>\n      <td>4</td>\n      <td>sedan</td>\n      <td>rwd</td>\n      <td>front</td>\n      <td>109.1</td>\n      <td>188.8</td>\n      <td>...</td>\n      <td>mpfi</td>\n      <td>3.58</td>\n      <td>2.87</td>\n      <td>8</td>\n      <td>134</td>\n      <td>5500</td>\n      <td>18</td>\n      <td>23</td>\n      <td>21485</td>\n      <td>173.336124</td>\n    </tr>\n    <tr>\n      <th>191</th>\n      <td>-1</td>\n      <td>volvo</td>\n      <td>diesel</td>\n      <td>turbo</td>\n      <td>4</td>\n      <td>sedan</td>\n      <td>rwd</td>\n      <td>front</td>\n      <td>109.1</td>\n      <td>188.8</td>\n      <td>...</td>\n      <td>idi</td>\n      <td>3.01</td>\n      <td>3.40</td>\n      <td>23</td>\n      <td>106</td>\n      <td>4800</td>\n      <td>26</td>\n      <td>27</td>\n      <td>22470</td>\n      <td>145.162032</td>\n    </tr>\n    <tr>\n      <th>192</th>\n      <td>-1</td>\n      <td>volvo</td>\n      <td>gas</td>\n      <td>turbo</td>\n      <td>4</td>\n      <td>sedan</td>\n      <td>rwd</td>\n      <td>front</td>\n      <td>109.1</td>\n      <td>188.8</td>\n      <td>...</td>\n      <td>mpfi</td>\n      <td>3.78</td>\n      <td>3.15</td>\n      <td>9</td>\n      <td>114</td>\n      <td>5400</td>\n      <td>19</td>\n      <td>25</td>\n      <td>22625</td>\n      <td>141.398247</td>\n    </tr>\n  </tbody>\n</table>\n<p>193 rows × 26 columns</p>\n</div>"
     },
     "execution_count": 24,
     "metadata": {},
     "output_type": "execute_result"
    }
   ],
   "source": [
    "autos_df"
   ],
   "metadata": {
    "collapsed": false,
    "pycharm": {
     "name": "#%%\n"
    }
   }
  },
  {
   "cell_type": "code",
   "execution_count": 25,
   "outputs": [],
   "source": [
    "autos_df['torque'] = autos_df.displacement * autos_df.compression_ratio *  (10 ** 5)"
   ],
   "metadata": {
    "collapsed": false,
    "pycharm": {
     "name": "#%%\n"
    }
   }
  },
  {
   "cell_type": "code",
   "execution_count": 32,
   "outputs": [],
   "source": [
    "autos_df['power'] = (autos_df.torque * autos_df['peak rpm'] / 9549) / (10** 3)/ 1.3596"
   ],
   "metadata": {
    "collapsed": false,
    "pycharm": {
     "name": "#%%\n"
    }
   }
  },
  {
   "cell_type": "code",
   "execution_count": 33,
   "outputs": [
    {
     "name": "stdout",
     "output_type": "stream",
     "text": [
      "     displacement        torque          power  horsepower\n",
      "0      101.377976  9.124018e+07   35138.812516         111\n",
      "1      101.377976  9.124018e+07   35138.812516         111\n",
      "2      117.446531  1.057019e+08   40708.364933         154\n",
      "3      108.695147  1.086951e+08   46047.260327         102\n",
      "4      135.868934  1.086951e+08   46047.260327         115\n",
      "..            ...           ...            ...         ...\n",
      "188    141.398247  1.272584e+08   52931.139817         114\n",
      "189    141.398247  1.131186e+08   46178.607577         160\n",
      "190    173.336124  1.386689e+08   58745.243596         134\n",
      "191    145.162032  3.338727e+08  123439.190247         106\n",
      "192    141.398247  1.272584e+08   52931.139817         114\n",
      "\n",
      "[193 rows x 4 columns]\n"
     ]
    }
   ],
   "source": [
    "print(autos_df.loc[:, ['displacement', 'torque', 'power', 'horsepower']])"
   ],
   "metadata": {
    "collapsed": false,
    "pycharm": {
     "name": "#%%\n"
    }
   }
  },
  {
   "cell_type": "markdown",
   "source": [
    "Employees\n",
    "1.\tПосчитайте налог на зп(13%)\n",
    "2. Чистая зп\n",
    "3. Посчитайте для каждого сотрудника зп в год + премия в виде 2-х зп\n",
    "4. Посчитайте сколько в сумме тратит организация на зп сотрудникам за один месяц\n"
   ],
   "metadata": {
    "collapsed": false,
    "pycharm": {
     "name": "#%% md\n"
    }
   }
  },
  {
   "cell_type": "code",
   "execution_count": 8,
   "outputs": [
    {
     "name": "stdout",
     "output_type": "stream",
     "text": [
      "2167267.0\n",
      "                    name   salary      tax       pay\n",
      "0         Alicia Higgins  27777.0  3611.01  24165.99\n",
      "1             Gary Evans  27771.0  3610.23  24160.77\n",
      "2       Matthew Chandler  27782.0  3611.66  24170.34\n",
      "3       William Gonzalez  27748.0  3607.24  24140.76\n",
      "4         Debra Phillips  27783.0  3611.79  24171.21\n",
      "..                   ...      ...      ...       ...\n",
      "73        Jennifer Hobbs  27808.0  3615.04  24192.96\n",
      "74          George James  27767.0  3609.71  24157.29\n",
      "75         Zachary Miles  27757.0  3608.41  24148.59\n",
      "76  Dr. Tommy Sutton Jr.  27769.0  3609.97  24159.03\n",
      "77           Terry Smith  27753.0  3607.89  24145.11\n",
      "\n",
      "[78 rows x 4 columns]\n"
     ]
    }
   ],
   "source": [
    "import pandas as pd\n",
    "import numpy as np\n",
    "employees = pd.read_csv('employees.csv')\n",
    "employees = employees.loc[:, ['name', 'salary']]\n",
    "employees['tax'] = employees['salary'] * 0.13\n",
    "employees['pay'] = employees['salary'] - employees['tax']\n",
    "\n",
    "sum_for_month = 0\n",
    "salary_s = employees['salary']\n",
    "for i in salary_s:\n",
    "    sum_for_month += i\n",
    "print(sum_for_month)\n",
    "\n",
    "\n",
    "\n",
    "\n",
    "\n",
    "\n",
    "\n",
    "\n",
    "\n",
    "\n",
    "# employees = employees.iloc[:, 3:]\n",
    "# employees['tax'] = employees['salary'] * 0.13\n",
    "# employees['zp'] = employees['salary'] - employees['tax']\n",
    "# employees['sal_for_year'] = employees['salary'] * 12 + employees['salary'] * 2\n",
    "print(employees)"
   ],
   "metadata": {
    "collapsed": false,
    "pycharm": {
     "name": "#%%\n"
    }
   }
  },
  {
   "cell_type": "code",
   "execution_count": 11,
   "outputs": [
    {
     "name": "stdout",
     "output_type": "stream",
     "text": [
      "2167267.0\n"
     ]
    }
   ],
   "source": [
    "s = 0\n",
    "for i in employees['salary']:\n",
    "    s += i\n",
    "print(s)"
   ],
   "metadata": {
    "collapsed": false,
    "pycharm": {
     "name": "#%%\n"
    }
   }
  },
  {
   "cell_type": "markdown",
   "source": [
    "Weather Sales\n",
    "1.\tСоедините две таблицы в одну, ввида:\n",
    "final_df\n",
    "+------------+----------+-----------+\n",
    "| date       | sales    |temperature|\n",
    "+------------+----------+-----------+\n",
    "| 2023-07-01 | 2010     | 27.774945 |\n",
    "| 2023-07-02 | 1845     | 29.418479 |\n",
    "+------------+----------+-----------+\n",
    "2. подсказка merge(dataframes), concat(series/dataframes)"
   ],
   "metadata": {
    "collapsed": false,
    "pycharm": {
     "name": "#%% md\n"
    }
   }
  },
  {
   "cell_type": "code",
   "execution_count": 9,
   "outputs": [],
   "source": [
    "weather_df = pd.read_csv('2.4 weather.csv')\n",
    "sales_df = pd.read_csv('2.4 sales.csv')\n",
    "\n",
    "sales_df = sales_df.sort_values(by='date')\n",
    "weather_df = weather_df.sort_values(by='date')"
   ],
   "metadata": {
    "collapsed": false,
    "pycharm": {
     "name": "#%%\n"
    }
   }
  },
  {
   "cell_type": "code",
   "execution_count": 12,
   "outputs": [
    {
     "name": "stdout",
     "output_type": "stream",
     "text": [
      "          date  sales  temperature\n",
      "0   2023-07-01   2010    27.774945\n",
      "1   2023-07-02   1845    29.418479\n",
      "2   2023-07-03    141    28.495733\n",
      "3   2023-07-04   2007    30.369211\n",
      "4   2023-07-05   2592    23.527366\n",
      "5   2023-07-06    330    33.863415\n",
      "6   2023-07-07     18    29.496996\n",
      "7   2023-07-08   1245    29.572397\n",
      "8   2023-07-09   1689    26.581430\n",
      "9   2023-07-10   1794    27.585032\n",
      "10  2023-07-11   2511    28.778842\n",
      "11  2023-07-12   2160    23.835334\n",
      "12  2023-07-13    855    30.944713\n",
      "13  2023-07-14     27    29.267127\n",
      "14  2023-07-15   1839    25.575075\n",
      "15  2023-07-16   2043    28.632283\n",
      "16  2023-07-17    900    32.013838\n",
      "17  2023-07-18    300    32.795059\n",
      "18  2023-07-19    657    24.799404\n",
      "19  2023-07-20   2241    26.752678\n",
      "20  2023-07-21    849    32.459505\n",
      "21  2023-07-22    663    24.321133\n",
      "22  2023-07-23   2664    24.795955\n",
      "23  2023-07-24   1473    33.579580\n",
      "24  2023-07-25    450    27.432170\n",
      "25  2023-07-26    984    33.957569\n",
      "26  2023-07-27   2766    23.926716\n",
      "27  2023-07-28   1866    26.572704\n",
      "28  2023-07-29    906    26.504578\n",
      "29  2023-07-30    594    29.358892\n"
     ]
    }
   ],
   "source": [
    "date_s = weather_df['date']\n",
    "temp_s = weather_df['temperature']\n",
    "sales_s = sales_df['sales']\n",
    "final_df = pd.concat([date_s, sales_s, temp_s], axis=1)\n",
    "print(final_df)"
   ],
   "metadata": {
    "collapsed": false,
    "pycharm": {
     "name": "#%%\n"
    }
   }
  },
  {
   "cell_type": "code",
   "execution_count": 14,
   "outputs": [
    {
     "name": "stdout",
     "output_type": "stream",
     "text": [
      "          date  temperature  sales\n",
      "0   2023-07-01    27.774945   2010\n",
      "1   2023-07-02    29.418479   1845\n",
      "2   2023-07-03    28.495733    141\n",
      "3   2023-07-04    30.369211   2007\n",
      "4   2023-07-05    23.527366   2592\n",
      "5   2023-07-06    33.863415    330\n",
      "6   2023-07-07    29.496996     18\n",
      "7   2023-07-08    29.572397   1245\n",
      "8   2023-07-09    26.581430   1689\n",
      "9   2023-07-10    27.585032   1794\n",
      "10  2023-07-11    28.778842   2511\n",
      "11  2023-07-12    23.835334   2160\n",
      "12  2023-07-13    30.944713    855\n",
      "13  2023-07-14    29.267127     27\n",
      "14  2023-07-15    25.575075   1839\n",
      "15  2023-07-16    28.632283   2043\n",
      "16  2023-07-17    32.013838    900\n",
      "17  2023-07-18    32.795059    300\n",
      "18  2023-07-19    24.799404    657\n",
      "19  2023-07-20    26.752678   2241\n",
      "20  2023-07-21    32.459505    849\n",
      "21  2023-07-22    24.321133    663\n",
      "22  2023-07-23    24.795955   2664\n",
      "23  2023-07-24    33.579580   1473\n",
      "24  2023-07-25    27.432170    450\n",
      "25  2023-07-26    33.957569    984\n",
      "26  2023-07-27    23.926716   2766\n",
      "27  2023-07-28    26.572704   1866\n",
      "28  2023-07-29    26.504578    906\n",
      "29  2023-07-30    29.358892    594\n"
     ]
    }
   ],
   "source": [
    "final_df = pd.concat([weather_df, sales_df], axis=1)\n",
    "final_df = final_df.iloc[:, [1, 2, 5]]\n",
    "print(final_df)"
   ],
   "metadata": {
    "collapsed": false,
    "pycharm": {
     "name": "#%%\n"
    }
   }
  },
  {
   "cell_type": "code",
   "execution_count": 17,
   "outputs": [
    {
     "name": "stdout",
     "output_type": "stream",
     "text": [
      "    Unnamed: 0_x        date  temperature  Unnamed: 0_y  sales\n",
      "0              0  2023-07-01    27.774945             0   2010\n",
      "1              1  2023-07-02    29.418479             1   1845\n",
      "2              2  2023-07-03    28.495733             2    141\n",
      "3              3  2023-07-04    30.369211             3   2007\n",
      "4              4  2023-07-05    23.527366             4   2592\n",
      "5              5  2023-07-06    33.863415             5    330\n",
      "6              6  2023-07-07    29.496996             6     18\n",
      "7              7  2023-07-08    29.572397             7   1245\n",
      "8              8  2023-07-09    26.581430             8   1689\n",
      "9              9  2023-07-10    27.585032             9   1794\n",
      "10            10  2023-07-11    28.778842            10   2511\n",
      "11            11  2023-07-12    23.835334            11   2160\n",
      "12            12  2023-07-13    30.944713            12    855\n",
      "13            13  2023-07-14    29.267127            13     27\n",
      "14            14  2023-07-15    25.575075            14   1839\n",
      "15            15  2023-07-16    28.632283            15   2043\n",
      "16            16  2023-07-17    32.013838            16    900\n",
      "17            17  2023-07-18    32.795059            17    300\n",
      "18            18  2023-07-19    24.799404            18    657\n",
      "19            19  2023-07-20    26.752678            19   2241\n",
      "20            20  2023-07-21    32.459505            20    849\n",
      "21            21  2023-07-22    24.321133            21    663\n",
      "22            22  2023-07-23    24.795955            22   2664\n",
      "23            23  2023-07-24    33.579580            23   1473\n",
      "24            24  2023-07-25    27.432170            24    450\n",
      "25            25  2023-07-26    33.957569            25    984\n",
      "26            26  2023-07-27    23.926716            26   2766\n",
      "27            27  2023-07-28    26.572704            27   1866\n",
      "28            28  2023-07-29    26.504578            28    906\n",
      "29            29  2023-07-30    29.358892            29    594\n"
     ]
    }
   ],
   "source": [
    "final_df = pd.merge(weather_df, sales_df, on='date')\n",
    "print(final_df)"
   ],
   "metadata": {
    "collapsed": false,
    "pycharm": {
     "name": "#%%\n"
    }
   }
  },
  {
   "cell_type": "code",
   "execution_count": 9,
   "outputs": [
    {
     "data": {
      "text/plain": "(78, 2)"
     },
     "execution_count": 9,
     "metadata": {},
     "output_type": "execute_result"
    }
   ],
   "source": [
    "import pandas as pd\n",
    "import numpy as np\n",
    "\n",
    "df = pd.read_csv('2.3 count.csv')\n",
    "df = df.dropna()\n",
    "df = df.iloc[:, [2 ,3]]\n",
    "\n",
    "df.shape"
   ],
   "metadata": {
    "collapsed": false,
    "pycharm": {
     "name": "#%%\n"
    }
   }
  },
  {
   "cell_type": "code",
   "execution_count": 11,
   "outputs": [
    {
     "data": {
      "text/plain": "78"
     },
     "execution_count": 11,
     "metadata": {},
     "output_type": "execute_result"
    }
   ],
   "source": [
    "from random import choice\n",
    "country = ['France', 'USA', 'Russian']\n",
    "country_lst = []\n",
    "for i in range(78):\n",
    "    country_lst.append(choice(country))\n",
    "len(country_lst)"
   ],
   "metadata": {
    "collapsed": false,
    "pycharm": {
     "name": "#%%\n"
    }
   }
  },
  {
   "cell_type": "code",
   "execution_count": 13,
   "outputs": [],
   "source": [
    "df['country'] = country_lst\n",
    "df.to_csv('2.3 country.csv')"
   ],
   "metadata": {
    "collapsed": false,
    "pycharm": {
     "name": "#%%\n"
    }
   }
  },
  {
   "cell_type": "code",
   "execution_count": 18,
   "outputs": [
    {
     "name": "stdout",
     "output_type": "stream",
     "text": [
      "[(1, 1), (2, 4), (3, 9)]\n"
     ]
    }
   ],
   "source": [
    "a = [1, 2 ,3]\n",
    "a1 = [(x, x ** 2) for x in a]\n",
    "print(a1)"
   ],
   "metadata": {
    "collapsed": false,
    "pycharm": {
     "name": "#%%\n"
    }
   }
  },
  {
   "cell_type": "code",
   "execution_count": 43,
   "outputs": [
    {
     "name": "stdout",
     "output_type": "stream",
     "text": [
      "               age\n",
      "country           \n",
      "France   53.562500\n",
      "Russian  49.777778\n",
      "USA      60.742857\n",
      "         age\n",
      "country     \n",
      "France    16\n",
      "Russian   27\n",
      "USA       35\n"
     ]
    }
   ],
   "source": [
    "df = pd.read_csv('2.3 country.csv')\n",
    "df = df.iloc[:, [2 ,3]]\n",
    "df = df.groupby(['country'])\n",
    "mean_age = df.mean()\n",
    "count_country = df.count()\n",
    "print(mean_age)\n",
    "print(count_country)"
   ],
   "metadata": {
    "collapsed": false,
    "pycharm": {
     "name": "#%%\n"
    }
   }
  },
  {
   "cell_type": "code",
   "execution_count": null,
   "outputs": [],
   "source": [],
   "metadata": {
    "collapsed": false,
    "pycharm": {
     "name": "#%%\n"
    }
   }
  }
 ],
 "metadata": {
  "kernelspec": {
   "display_name": "Python 3",
   "language": "python",
   "name": "python3"
  },
  "language_info": {
   "codemirror_mode": {
    "name": "ipython",
    "version": 2
   },
   "file_extension": ".py",
   "mimetype": "text/x-python",
   "name": "python",
   "nbconvert_exporter": "python",
   "pygments_lexer": "ipython2",
   "version": "2.7.6"
  }
 },
 "nbformat": 4,
 "nbformat_minor": 0
}